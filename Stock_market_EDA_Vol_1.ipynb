{
 "cells": [
  {
   "cell_type": "markdown",
   "metadata": {
    "_uuid": "c49c4f47379d81cd7fc50faf2f482938e441dec5"
   },
   "source": [
    "## General information\n",
    "\n",
    "I'll try to do an extensive EDA for this project and try to find some interesting things about the data.\n",
    "\n",
    "!"
   ]
  },
  {
   "cell_type": "markdown",
   "metadata": {
    "_uuid": "6daa1434e9a463cb819f93bb08b41602e4b1f64b"
   },
   "source": [
    "![](http://fintechnews.ch/wp-content/uploads/2016/11/Deutsche-Bank-Survey-87-of-Financial-Market-Participants-Say-Blockchain-Will-Disrupt-The-Industry-1440x564_c.jpg)"
   ]
  },
  {
   "cell_type": "markdown",
   "metadata": {
    "_uuid": "896f2b18bf4f32ec7dfb0196e3d718a7ae991b6a"
   },
   "source": [
    "### Getting data and importing libraries"
   ]
  },
  {
   "cell_type": "code",
   "execution_count": 2,
   "metadata": {
    "_cell_guid": "b1076dfc-b9ad-4769-8c92-a6c4dae69d19",
    "_kg_hide-input": true,
    "_uuid": "8f2839f25d086af736a60e9eeb907d3b93b6e0e5"
   },
   "outputs": [
    {
     "data": {
      "text/html": [
       "<script type=\"text/javascript\">window.PlotlyConfig = {MathJaxConfig: 'local'};</script><script type=\"text/javascript\">if (window.MathJax) {MathJax.Hub.Config({SVG: {font: \"STIX-Web\"}});}</script><script>requirejs.config({paths: { 'plotly': ['https://cdn.plot.ly/plotly-latest.min']},});if(!window._Plotly) {require(['plotly'],function(plotly) {window._Plotly=plotly;});}</script>"
      ],
      "text/vnd.plotly.v1+html": [
       "<script type=\"text/javascript\">window.PlotlyConfig = {MathJaxConfig: 'local'};</script><script type=\"text/javascript\">if (window.MathJax) {MathJax.Hub.Config({SVG: {font: \"STIX-Web\"}});}</script><script>requirejs.config({paths: { 'plotly': ['https://cdn.plot.ly/plotly-latest.min']},});if(!window._Plotly) {require(['plotly'],function(plotly) {window._Plotly=plotly;});}</script>"
      ]
     },
     "metadata": {},
     "output_type": "display_data"
    }
   ],
   "source": [
    "import numpy as np\n",
    "import pandas as pd\n",
    "import matplotlib.pyplot as plt\n",
    "import seaborn as sns\n",
    "%matplotlib inline\n",
    "\n",
    "import datetime\n",
    "import lightgbm as lgb\n",
    "from scipy import stats\n",
    "from scipy.sparse import hstack, csr_matrix\n",
    "from sklearn.model_selection import train_test_split\n",
    "from wordcloud import WordCloud\n",
    "from collections import Counter\n",
    "from nltk.corpus import stopwords\n",
    "from nltk.util import ngrams\n",
    "from sklearn.feature_extraction.text import TfidfVectorizer\n",
    "from sklearn.preprocessing import StandardScaler\n",
    "stop = set(stopwords.words('english'))\n",
    "\n",
    "\n",
    "import plotly.offline as py\n",
    "py.init_notebook_mode(connected=True)\n",
    "import plotly.graph_objs as go\n",
    "import plotly.tools as tls\n",
    "\n",
    "from xgboost import XGBClassifier\n",
    "import lightgbm as lgb\n",
    "from sklearn import model_selection\n",
    "from sklearn.metrics import accuracy_score\n"
   ]
  },
  {
   "cell_type": "code",
   "execution_count": 7,
   "metadata": {},
   "outputs": [],
   "source": [
    "market_train_df = pd.read_csv(\"C:\\\\Users\\\\FAKHRE\\\\Music\\\\Data\\\\market.csv\")\n",
    "news_train_df = pd.read_csv(\"C:\\\\Users\\\\FAKHRE\\\\Music\\\\Data\\\\news.csv\")\n"
   ]
  },
  {
   "cell_type": "code",
   "execution_count": 8,
   "metadata": {},
   "outputs": [],
   "source": [
    "#market_train_df['date'] =  pd.to_datetime(market_train_df['time'], format='%Y%m%d:%H:%M:%S.%f')\n",
    "market_train_df['time'] = pd.to_datetime(market_train_df['time'], format='%Y-%m-%d %H:%M')\n",
    "news_train_df['time'] = pd.to_datetime(news_train_df['time'], format='%Y-%m-%d %H:%M')"
   ]
  },
  {
   "cell_type": "markdown",
   "metadata": {
    "_uuid": "56d475175477feee4b5672285e8bccd663b5c4c6"
   },
   "source": [
    "We have two datasets, let's explore them separately."
   ]
  },
  {
   "cell_type": "markdown",
   "metadata": {
    "_uuid": "a21a4bd4a0be55614fcdcbc8f1812b5994dabb19"
   },
   "source": [
    "## Market data\n",
    "\n",
    "We have a really interesting dataset which contains stock prices for many companies over a decade!\n",
    "\n",
    "For now let's have a look at the data itself and not think about the competition. We can see long-term trends, appearing and declining companies and many other things."
   ]
  },
  {
   "cell_type": "code",
   "execution_count": 9,
   "metadata": {
    "_uuid": "cca04f17e12924251a4ea85f1ea63a81e4c1c4eb"
   },
   "outputs": [
    {
     "name": "stdout",
     "output_type": "stream",
     "text": [
      "15000 samples and 16 features in the training market dataset.\n"
     ]
    }
   ],
   "source": [
    "print(f'{market_train_df.shape[0]} samples and {market_train_df.shape[1]} features in the training market dataset.')"
   ]
  },
  {
   "cell_type": "code",
   "execution_count": 10,
   "metadata": {
    "_uuid": "a10641e3f980559a25ebc3ab83082443ce344de8",
    "scrolled": true
   },
   "outputs": [
    {
     "data": {
      "text/html": [
       "<div>\n",
       "<style scoped>\n",
       "    .dataframe tbody tr th:only-of-type {\n",
       "        vertical-align: middle;\n",
       "    }\n",
       "\n",
       "    .dataframe tbody tr th {\n",
       "        vertical-align: top;\n",
       "    }\n",
       "\n",
       "    .dataframe thead th {\n",
       "        text-align: right;\n",
       "    }\n",
       "</style>\n",
       "<table border=\"1\" class=\"dataframe\">\n",
       "  <thead>\n",
       "    <tr style=\"text-align: right;\">\n",
       "      <th></th>\n",
       "      <th>time</th>\n",
       "      <th>assetCode</th>\n",
       "      <th>assetName</th>\n",
       "      <th>volume</th>\n",
       "      <th>close</th>\n",
       "      <th>open</th>\n",
       "      <th>returnsClosePrevRaw1</th>\n",
       "      <th>returnsOpenPrevRaw1</th>\n",
       "      <th>returnsClosePrevMktres1</th>\n",
       "      <th>returnsOpenPrevMktres1</th>\n",
       "      <th>returnsClosePrevRaw10</th>\n",
       "      <th>returnsOpenPrevRaw10</th>\n",
       "      <th>returnsClosePrevMktres10</th>\n",
       "      <th>returnsOpenPrevMktres10</th>\n",
       "      <th>returnsOpenNextMktres10</th>\n",
       "      <th>universe</th>\n",
       "    </tr>\n",
       "  </thead>\n",
       "  <tbody>\n",
       "    <tr>\n",
       "      <th>0</th>\n",
       "      <td>2010-01-04 22:00:00+00:00</td>\n",
       "      <td>A.N</td>\n",
       "      <td>Agilent Technologies Inc</td>\n",
       "      <td>2729240</td>\n",
       "      <td>31.30</td>\n",
       "      <td>31.39</td>\n",
       "      <td>0.007403</td>\n",
       "      <td>0.011276</td>\n",
       "      <td>-0.002344</td>\n",
       "      <td>0.010532</td>\n",
       "      <td>0.063179</td>\n",
       "      <td>0.065874</td>\n",
       "      <td>0.027270</td>\n",
       "      <td>0.060092</td>\n",
       "      <td>-0.040197</td>\n",
       "      <td>1</td>\n",
       "    </tr>\n",
       "    <tr>\n",
       "      <th>1</th>\n",
       "      <td>2010-01-04 22:00:00+00:00</td>\n",
       "      <td>AAI.N</td>\n",
       "      <td>AirTran Holdings Inc</td>\n",
       "      <td>3436803</td>\n",
       "      <td>5.18</td>\n",
       "      <td>5.26</td>\n",
       "      <td>-0.007663</td>\n",
       "      <td>0.011538</td>\n",
       "      <td>-0.027851</td>\n",
       "      <td>0.021131</td>\n",
       "      <td>0.005825</td>\n",
       "      <td>0.005736</td>\n",
       "      <td>0.083558</td>\n",
       "      <td>0.030178</td>\n",
       "      <td>0.061253</td>\n",
       "      <td>0</td>\n",
       "    </tr>\n",
       "    <tr>\n",
       "      <th>2</th>\n",
       "      <td>2010-01-04 22:00:00+00:00</td>\n",
       "      <td>AAP.N</td>\n",
       "      <td>Advance Auto Parts Inc</td>\n",
       "      <td>1701655</td>\n",
       "      <td>40.38</td>\n",
       "      <td>40.70</td>\n",
       "      <td>-0.002470</td>\n",
       "      <td>-0.009973</td>\n",
       "      <td>-0.012789</td>\n",
       "      <td>-0.008617</td>\n",
       "      <td>-0.008378</td>\n",
       "      <td>0.002677</td>\n",
       "      <td>-0.021788</td>\n",
       "      <td>-0.001034</td>\n",
       "      <td>-0.034126</td>\n",
       "      <td>1</td>\n",
       "    </tr>\n",
       "    <tr>\n",
       "      <th>3</th>\n",
       "      <td>2010-01-04 22:00:00+00:00</td>\n",
       "      <td>AAPL.O</td>\n",
       "      <td>Apple Inc</td>\n",
       "      <td>17633150</td>\n",
       "      <td>214.01</td>\n",
       "      <td>213.50</td>\n",
       "      <td>0.015555</td>\n",
       "      <td>0.001830</td>\n",
       "      <td>-0.001329</td>\n",
       "      <td>0.009182</td>\n",
       "      <td>0.115449</td>\n",
       "      <td>0.095602</td>\n",
       "      <td>0.011769</td>\n",
       "      <td>0.067086</td>\n",
       "      <td>-0.035828</td>\n",
       "      <td>1</td>\n",
       "    </tr>\n",
       "    <tr>\n",
       "      <th>4</th>\n",
       "      <td>2010-01-04 22:00:00+00:00</td>\n",
       "      <td>AAV.N</td>\n",
       "      <td>Advantage Oil &amp; Gas Ltd</td>\n",
       "      <td>833228</td>\n",
       "      <td>6.83</td>\n",
       "      <td>6.61</td>\n",
       "      <td>0.047546</td>\n",
       "      <td>-0.003017</td>\n",
       "      <td>0.028141</td>\n",
       "      <td>-0.000661</td>\n",
       "      <td>0.057276</td>\n",
       "      <td>0.037677</td>\n",
       "      <td>0.002492</td>\n",
       "      <td>0.011989</td>\n",
       "      <td>0.005125</td>\n",
       "      <td>0</td>\n",
       "    </tr>\n",
       "  </tbody>\n",
       "</table>\n",
       "</div>"
      ],
      "text/plain": [
       "                       time assetCode                 assetName    volume  \\\n",
       "0 2010-01-04 22:00:00+00:00       A.N  Agilent Technologies Inc   2729240   \n",
       "1 2010-01-04 22:00:00+00:00     AAI.N      AirTran Holdings Inc   3436803   \n",
       "2 2010-01-04 22:00:00+00:00     AAP.N    Advance Auto Parts Inc   1701655   \n",
       "3 2010-01-04 22:00:00+00:00    AAPL.O                 Apple Inc  17633150   \n",
       "4 2010-01-04 22:00:00+00:00     AAV.N   Advantage Oil & Gas Ltd    833228   \n",
       "\n",
       "    close    open  returnsClosePrevRaw1  returnsOpenPrevRaw1  \\\n",
       "0   31.30   31.39              0.007403             0.011276   \n",
       "1    5.18    5.26             -0.007663             0.011538   \n",
       "2   40.38   40.70             -0.002470            -0.009973   \n",
       "3  214.01  213.50              0.015555             0.001830   \n",
       "4    6.83    6.61              0.047546            -0.003017   \n",
       "\n",
       "   returnsClosePrevMktres1  returnsOpenPrevMktres1  returnsClosePrevRaw10  \\\n",
       "0                -0.002344                0.010532               0.063179   \n",
       "1                -0.027851                0.021131               0.005825   \n",
       "2                -0.012789               -0.008617              -0.008378   \n",
       "3                -0.001329                0.009182               0.115449   \n",
       "4                 0.028141               -0.000661               0.057276   \n",
       "\n",
       "   returnsOpenPrevRaw10  returnsClosePrevMktres10  returnsOpenPrevMktres10  \\\n",
       "0              0.065874                  0.027270                 0.060092   \n",
       "1              0.005736                  0.083558                 0.030178   \n",
       "2              0.002677                 -0.021788                -0.001034   \n",
       "3              0.095602                  0.011769                 0.067086   \n",
       "4              0.037677                  0.002492                 0.011989   \n",
       "\n",
       "   returnsOpenNextMktres10  universe  \n",
       "0                -0.040197         1  \n",
       "1                 0.061253         0  \n",
       "2                -0.034126         1  \n",
       "3                -0.035828         1  \n",
       "4                 0.005125         0  "
      ]
     },
     "execution_count": 10,
     "metadata": {},
     "output_type": "execute_result"
    }
   ],
   "source": [
    "market_train_df.head()"
   ]
  },
  {
   "cell_type": "markdown",
   "metadata": {
    "_uuid": "68399eec91a6c1e773c9534969949ca40f04f290"
   },
   "source": [
    "At first let's take 10 random assets and plot them."
   ]
  },
  {
   "cell_type": "code",
   "execution_count": 11,
   "metadata": {
    "_kg_hide-input": true,
    "_uuid": "e49f9296ce4c92adc8b82bc4e96fe05d1a1845d7",
    "scrolled": false
   },
   "outputs": [
    {
     "data": {
      "application/vnd.plotly.v1+json": {
       "config": {
        "linkText": "Export to plot.ly",
        "plotlyServerURL": "https://plot.ly",
        "showLink": false
       },
       "data": [
        {
         "name": "Synaptics Inc",
         "type": "scatter",
         "uid": "41779b90-feba-4e12-98c0-17eb857d3f07",
         "x": [
          "2010-01-04",
          "2010-01-05",
          "2010-01-06",
          "2010-01-07",
          "2010-01-08",
          "2010-01-11",
          "2010-01-12",
          "2010-01-13",
          "2010-01-14",
          "2010-01-15"
         ],
         "y": [
          32.34,
          33.16,
          32.22,
          32,
          32.4,
          32.17,
          30.64,
          30.5,
          30.42,
          30.47
         ]
        },
        {
         "name": "Eastman Chemical Co",
         "type": "scatter",
         "uid": "57a999d5-486d-48ab-9628-daf19b94b8fe",
         "x": [
          "2010-01-04",
          "2010-01-05",
          "2010-01-06",
          "2010-01-07",
          "2010-01-08",
          "2010-01-11",
          "2010-01-12",
          "2010-01-13",
          "2010-01-14",
          "2010-01-15"
         ],
         "y": [
          61.75,
          60.96,
          60.55,
          60.7,
          60.86,
          60.89,
          60.25,
          61.58,
          60.7,
          60.42
         ]
        },
        {
         "name": "Donaldson Company Inc",
         "type": "scatter",
         "uid": "21d982e6-bafe-424e-9a97-604748ead000",
         "x": [
          "2010-01-04",
          "2010-01-05",
          "2010-01-06",
          "2010-01-07",
          "2010-01-08",
          "2010-01-11",
          "2010-01-12",
          "2010-01-13",
          "2010-01-14",
          "2010-01-15"
         ],
         "y": [
          42.88,
          41.91,
          42.25,
          42.77,
          42.97,
          43.05,
          42.6,
          42.83,
          42.27,
          41.71
         ]
        },
        {
         "name": "CapitalSource Inc",
         "type": "scatter",
         "uid": "514cef27-021e-47f6-88bb-3a43a15fd940",
         "x": [
          "2010-01-04",
          "2010-01-05",
          "2010-01-06",
          "2010-01-07",
          "2010-01-08",
          "2010-01-11",
          "2010-01-12",
          "2010-01-13",
          "2010-01-14",
          "2010-01-15"
         ],
         "y": [
          4.17,
          4.16,
          4.28,
          4.56,
          4.56,
          4.79,
          4.72,
          4.76,
          4.93,
          4.97
         ]
        },
        {
         "name": "Brunswick Corp",
         "type": "scatter",
         "uid": "9d56d5c3-53dc-455e-9758-bea796a6916e",
         "x": [
          "2010-01-04",
          "2010-01-05",
          "2010-01-06",
          "2010-01-07",
          "2010-01-08",
          "2010-01-11",
          "2010-01-12",
          "2010-01-13",
          "2010-01-14",
          "2010-01-15"
         ],
         "y": [
          13.4,
          13.63,
          13.81,
          13.73,
          13.59,
          13.7,
          13.28,
          13.53,
          13.36,
          12.8
         ]
        },
        {
         "name": "SunPower Corp",
         "type": "scatter",
         "uid": "b9385eba-9ae8-4bef-a0d6-49551f473fce",
         "x": [
          "2010-01-04",
          "2010-01-04",
          "2010-01-05",
          "2010-01-05",
          "2010-01-06",
          "2010-01-06",
          "2010-01-07",
          "2010-01-07",
          "2010-01-08",
          "2010-01-08",
          "2010-01-11",
          "2010-01-11",
          "2010-01-12",
          "2010-01-12",
          "2010-01-13",
          "2010-01-13",
          "2010-01-14",
          "2010-01-14",
          "2010-01-15",
          "2010-01-15"
         ],
         "y": [
          23.95,
          21.15,
          24.85,
          21.96,
          25.77,
          22.8,
          25.85,
          22.86,
          25.28,
          22.43,
          25.78,
          23.04,
          25.23,
          22.35,
          25.02,
          22.11,
          23.91,
          21.04,
          23.62,
          20.94
         ]
        },
        {
         "name": "Sapient Corp",
         "type": "scatter",
         "uid": "3f301274-d170-41d3-b570-c6a47d4497f9",
         "x": [
          "2010-01-04",
          "2010-01-05",
          "2010-01-06",
          "2010-01-07",
          "2010-01-08",
          "2010-01-11",
          "2010-01-12",
          "2010-01-13",
          "2010-01-14",
          "2010-01-15"
         ],
         "y": [
          8.59,
          8.4,
          8.35,
          8.23,
          8.31,
          8.59,
          8.44,
          8.26,
          8.43,
          8.36
         ]
        },
        {
         "name": "Illinois Tool Works Inc",
         "type": "scatter",
         "uid": "e924f2cb-bcc6-425a-b179-b582e66d3edc",
         "x": [
          "2010-01-04",
          "2010-01-05",
          "2010-01-06",
          "2010-01-07",
          "2010-01-08",
          "2010-01-11",
          "2010-01-12",
          "2010-01-13",
          "2010-01-14",
          "2010-01-15"
         ],
         "y": [
          48.57,
          48.44,
          48.33,
          48.64,
          49.1,
          49.95,
          48.69,
          48.66,
          48.51,
          47.88
         ]
        },
        {
         "name": "Carefusion Corp",
         "type": "scatter",
         "uid": "c48ad6b5-7c14-434c-87e0-97f009c4bc4a",
         "x": [
          "2010-01-04",
          "2010-01-05",
          "2010-01-06",
          "2010-01-07",
          "2010-01-08",
          "2010-01-11",
          "2010-01-12",
          "2010-01-13",
          "2010-01-14",
          "2010-01-15"
         ],
         "y": [
          24.93,
          24.66,
          24.8,
          25.12,
          26.16,
          26.64,
          25.58,
          25.75,
          25.99,
          25.59
         ]
        },
        {
         "name": "KBR Inc",
         "type": "scatter",
         "uid": "3bf8ba19-6c32-44bf-a00e-2cf41f6a5703",
         "x": [
          "2010-01-04",
          "2010-01-05",
          "2010-01-06",
          "2010-01-07",
          "2010-01-08",
          "2010-01-11",
          "2010-01-12",
          "2010-01-13",
          "2010-01-14",
          "2010-01-15"
         ],
         "y": [
          19.44,
          19.38,
          20,
          20.61,
          21.2,
          20.71,
          20.28,
          20.98,
          20.96,
          20.8
         ]
        }
       ],
       "layout": {
        "legend": {
         "orientation": "h"
        },
        "title": {
         "text": "Closing prices of 10 random assets"
        },
        "xaxis": {
         "title": {
          "text": "Month"
         }
        },
        "yaxis": {
         "title": {
          "text": "Price (USD)"
         }
        }
       }
      },
      "text/html": [
       "<div id=\"c77739c9-ff9e-40a9-b03a-caef58cce103\" style=\"height: 525px; width: 100%;\" class=\"plotly-graph-div\"></div><script type=\"text/javascript\">require([\"plotly\"], function(Plotly) { window.PLOTLYENV=window.PLOTLYENV || {};window.PLOTLYENV.BASE_URL=\"https://plot.ly\";\n",
       "if (document.getElementById(\"c77739c9-ff9e-40a9-b03a-caef58cce103\")) {\n",
       "    Plotly.newPlot(\"c77739c9-ff9e-40a9-b03a-caef58cce103\", [{\"name\": \"Synaptics Inc\", \"x\": [\"2010-01-04\", \"2010-01-05\", \"2010-01-06\", \"2010-01-07\", \"2010-01-08\", \"2010-01-11\", \"2010-01-12\", \"2010-01-13\", \"2010-01-14\", \"2010-01-15\"], \"y\": [32.34, 33.16, 32.22, 32.0, 32.4, 32.17, 30.64, 30.5, 30.42, 30.47], \"type\": \"scatter\", \"uid\": \"40520c4d-901c-4411-a4a5-b8978de340a9\"}, {\"name\": \"Eastman Chemical Co\", \"x\": [\"2010-01-04\", \"2010-01-05\", \"2010-01-06\", \"2010-01-07\", \"2010-01-08\", \"2010-01-11\", \"2010-01-12\", \"2010-01-13\", \"2010-01-14\", \"2010-01-15\"], \"y\": [61.75, 60.96, 60.55, 60.7, 60.86, 60.89, 60.25, 61.58, 60.7, 60.42], \"type\": \"scatter\", \"uid\": \"13af5cdf-e747-4bca-a1f2-bc4c3a535205\"}, {\"name\": \"Donaldson Company Inc\", \"x\": [\"2010-01-04\", \"2010-01-05\", \"2010-01-06\", \"2010-01-07\", \"2010-01-08\", \"2010-01-11\", \"2010-01-12\", \"2010-01-13\", \"2010-01-14\", \"2010-01-15\"], \"y\": [42.88, 41.91, 42.25, 42.77, 42.97, 43.05, 42.6, 42.83, 42.27, 41.71], \"type\": \"scatter\", \"uid\": \"073d9415-d83f-433e-9ec3-08f4260dc26a\"}, {\"name\": \"CapitalSource Inc\", \"x\": [\"2010-01-04\", \"2010-01-05\", \"2010-01-06\", \"2010-01-07\", \"2010-01-08\", \"2010-01-11\", \"2010-01-12\", \"2010-01-13\", \"2010-01-14\", \"2010-01-15\"], \"y\": [4.17, 4.16, 4.28, 4.56, 4.56, 4.79, 4.72, 4.76, 4.93, 4.97], \"type\": \"scatter\", \"uid\": \"7256dded-4826-43b4-b017-48c621a38556\"}, {\"name\": \"Brunswick Corp\", \"x\": [\"2010-01-04\", \"2010-01-05\", \"2010-01-06\", \"2010-01-07\", \"2010-01-08\", \"2010-01-11\", \"2010-01-12\", \"2010-01-13\", \"2010-01-14\", \"2010-01-15\"], \"y\": [13.4, 13.63, 13.81, 13.73, 13.59, 13.7, 13.28, 13.53, 13.36, 12.8], \"type\": \"scatter\", \"uid\": \"a4023c31-1d54-4d5d-911f-485cce4aaa9a\"}, {\"name\": \"SunPower Corp\", \"x\": [\"2010-01-04\", \"2010-01-04\", \"2010-01-05\", \"2010-01-05\", \"2010-01-06\", \"2010-01-06\", \"2010-01-07\", \"2010-01-07\", \"2010-01-08\", \"2010-01-08\", \"2010-01-11\", \"2010-01-11\", \"2010-01-12\", \"2010-01-12\", \"2010-01-13\", \"2010-01-13\", \"2010-01-14\", \"2010-01-14\", \"2010-01-15\", \"2010-01-15\"], \"y\": [23.95, 21.15, 24.85, 21.96, 25.77, 22.8, 25.85, 22.86, 25.28, 22.43, 25.78, 23.04, 25.23, 22.35, 25.02, 22.11, 23.91, 21.04, 23.62, 20.94], \"type\": \"scatter\", \"uid\": \"414a8ace-c614-495c-8f27-ab07bad4d4e5\"}, {\"name\": \"Sapient Corp\", \"x\": [\"2010-01-04\", \"2010-01-05\", \"2010-01-06\", \"2010-01-07\", \"2010-01-08\", \"2010-01-11\", \"2010-01-12\", \"2010-01-13\", \"2010-01-14\", \"2010-01-15\"], \"y\": [8.59, 8.4, 8.35, 8.23, 8.31, 8.59, 8.44, 8.26, 8.43, 8.36], \"type\": \"scatter\", \"uid\": \"5f464d31-a2ef-4a55-8cf4-f40af05aa3f2\"}, {\"name\": \"Illinois Tool Works Inc\", \"x\": [\"2010-01-04\", \"2010-01-05\", \"2010-01-06\", \"2010-01-07\", \"2010-01-08\", \"2010-01-11\", \"2010-01-12\", \"2010-01-13\", \"2010-01-14\", \"2010-01-15\"], \"y\": [48.57, 48.44, 48.33, 48.64, 49.1, 49.95, 48.69, 48.66, 48.51, 47.88], \"type\": \"scatter\", \"uid\": \"edfe0eba-5ad9-46e5-86c8-6e13f5a13033\"}, {\"name\": \"Carefusion Corp\", \"x\": [\"2010-01-04\", \"2010-01-05\", \"2010-01-06\", \"2010-01-07\", \"2010-01-08\", \"2010-01-11\", \"2010-01-12\", \"2010-01-13\", \"2010-01-14\", \"2010-01-15\"], \"y\": [24.93, 24.66, 24.8, 25.12, 26.16, 26.64, 25.58, 25.75, 25.99, 25.59], \"type\": \"scatter\", \"uid\": \"04180eaf-6fb8-414a-b7c2-c857313563d4\"}, {\"name\": \"KBR Inc\", \"x\": [\"2010-01-04\", \"2010-01-05\", \"2010-01-06\", \"2010-01-07\", \"2010-01-08\", \"2010-01-11\", \"2010-01-12\", \"2010-01-13\", \"2010-01-14\", \"2010-01-15\"], \"y\": [19.44, 19.38, 20.0, 20.61, 21.2, 20.71, 20.28, 20.98, 20.96, 20.8], \"type\": \"scatter\", \"uid\": \"38c503fd-3234-4918-9141-f1f8dae0d158\"}], {\"legend\": {\"orientation\": \"h\"}, \"title\": {\"text\": \"Closing prices of 10 random assets\"}, \"xaxis\": {\"title\": {\"text\": \"Month\"}}, \"yaxis\": {\"title\": {\"text\": \"Price (USD)\"}}}, {\"showLink\": false, \"linkText\": \"Export to plot.ly\", \"plotlyServerURL\": \"https://plot.ly\"}); \n",
       "}\n",
       "});</script><script type=\"text/javascript\">window.addEventListener(\"resize\", function(){if (document.getElementById(\"c77739c9-ff9e-40a9-b03a-caef58cce103\")) {window._Plotly.Plots.resize(document.getElementById(\"c77739c9-ff9e-40a9-b03a-caef58cce103\"));};})</script>"
      ],
      "text/vnd.plotly.v1+html": [
       "<div id=\"c77739c9-ff9e-40a9-b03a-caef58cce103\" style=\"height: 525px; width: 100%;\" class=\"plotly-graph-div\"></div><script type=\"text/javascript\">require([\"plotly\"], function(Plotly) { window.PLOTLYENV=window.PLOTLYENV || {};window.PLOTLYENV.BASE_URL=\"https://plot.ly\";\n",
       "if (document.getElementById(\"c77739c9-ff9e-40a9-b03a-caef58cce103\")) {\n",
       "    Plotly.newPlot(\"c77739c9-ff9e-40a9-b03a-caef58cce103\", [{\"name\": \"Synaptics Inc\", \"x\": [\"2010-01-04\", \"2010-01-05\", \"2010-01-06\", \"2010-01-07\", \"2010-01-08\", \"2010-01-11\", \"2010-01-12\", \"2010-01-13\", \"2010-01-14\", \"2010-01-15\"], \"y\": [32.34, 33.16, 32.22, 32.0, 32.4, 32.17, 30.64, 30.5, 30.42, 30.47], \"type\": \"scatter\", \"uid\": \"40520c4d-901c-4411-a4a5-b8978de340a9\"}, {\"name\": \"Eastman Chemical Co\", \"x\": [\"2010-01-04\", \"2010-01-05\", \"2010-01-06\", \"2010-01-07\", \"2010-01-08\", \"2010-01-11\", \"2010-01-12\", \"2010-01-13\", \"2010-01-14\", \"2010-01-15\"], \"y\": [61.75, 60.96, 60.55, 60.7, 60.86, 60.89, 60.25, 61.58, 60.7, 60.42], \"type\": \"scatter\", \"uid\": \"13af5cdf-e747-4bca-a1f2-bc4c3a535205\"}, {\"name\": \"Donaldson Company Inc\", \"x\": [\"2010-01-04\", \"2010-01-05\", \"2010-01-06\", \"2010-01-07\", \"2010-01-08\", \"2010-01-11\", \"2010-01-12\", \"2010-01-13\", \"2010-01-14\", \"2010-01-15\"], \"y\": [42.88, 41.91, 42.25, 42.77, 42.97, 43.05, 42.6, 42.83, 42.27, 41.71], \"type\": \"scatter\", \"uid\": \"073d9415-d83f-433e-9ec3-08f4260dc26a\"}, {\"name\": \"CapitalSource Inc\", \"x\": [\"2010-01-04\", \"2010-01-05\", \"2010-01-06\", \"2010-01-07\", \"2010-01-08\", \"2010-01-11\", \"2010-01-12\", \"2010-01-13\", \"2010-01-14\", \"2010-01-15\"], \"y\": [4.17, 4.16, 4.28, 4.56, 4.56, 4.79, 4.72, 4.76, 4.93, 4.97], \"type\": \"scatter\", \"uid\": \"7256dded-4826-43b4-b017-48c621a38556\"}, {\"name\": \"Brunswick Corp\", \"x\": [\"2010-01-04\", \"2010-01-05\", \"2010-01-06\", \"2010-01-07\", \"2010-01-08\", \"2010-01-11\", \"2010-01-12\", \"2010-01-13\", \"2010-01-14\", \"2010-01-15\"], \"y\": [13.4, 13.63, 13.81, 13.73, 13.59, 13.7, 13.28, 13.53, 13.36, 12.8], \"type\": \"scatter\", \"uid\": \"a4023c31-1d54-4d5d-911f-485cce4aaa9a\"}, {\"name\": \"SunPower Corp\", \"x\": [\"2010-01-04\", \"2010-01-04\", \"2010-01-05\", \"2010-01-05\", \"2010-01-06\", \"2010-01-06\", \"2010-01-07\", \"2010-01-07\", \"2010-01-08\", \"2010-01-08\", \"2010-01-11\", \"2010-01-11\", \"2010-01-12\", \"2010-01-12\", \"2010-01-13\", \"2010-01-13\", \"2010-01-14\", \"2010-01-14\", \"2010-01-15\", \"2010-01-15\"], \"y\": [23.95, 21.15, 24.85, 21.96, 25.77, 22.8, 25.85, 22.86, 25.28, 22.43, 25.78, 23.04, 25.23, 22.35, 25.02, 22.11, 23.91, 21.04, 23.62, 20.94], \"type\": \"scatter\", \"uid\": \"414a8ace-c614-495c-8f27-ab07bad4d4e5\"}, {\"name\": \"Sapient Corp\", \"x\": [\"2010-01-04\", \"2010-01-05\", \"2010-01-06\", \"2010-01-07\", \"2010-01-08\", \"2010-01-11\", \"2010-01-12\", \"2010-01-13\", \"2010-01-14\", \"2010-01-15\"], \"y\": [8.59, 8.4, 8.35, 8.23, 8.31, 8.59, 8.44, 8.26, 8.43, 8.36], \"type\": \"scatter\", \"uid\": \"5f464d31-a2ef-4a55-8cf4-f40af05aa3f2\"}, {\"name\": \"Illinois Tool Works Inc\", \"x\": [\"2010-01-04\", \"2010-01-05\", \"2010-01-06\", \"2010-01-07\", \"2010-01-08\", \"2010-01-11\", \"2010-01-12\", \"2010-01-13\", \"2010-01-14\", \"2010-01-15\"], \"y\": [48.57, 48.44, 48.33, 48.64, 49.1, 49.95, 48.69, 48.66, 48.51, 47.88], \"type\": \"scatter\", \"uid\": \"edfe0eba-5ad9-46e5-86c8-6e13f5a13033\"}, {\"name\": \"Carefusion Corp\", \"x\": [\"2010-01-04\", \"2010-01-05\", \"2010-01-06\", \"2010-01-07\", \"2010-01-08\", \"2010-01-11\", \"2010-01-12\", \"2010-01-13\", \"2010-01-14\", \"2010-01-15\"], \"y\": [24.93, 24.66, 24.8, 25.12, 26.16, 26.64, 25.58, 25.75, 25.99, 25.59], \"type\": \"scatter\", \"uid\": \"04180eaf-6fb8-414a-b7c2-c857313563d4\"}, {\"name\": \"KBR Inc\", \"x\": [\"2010-01-04\", \"2010-01-05\", \"2010-01-06\", \"2010-01-07\", \"2010-01-08\", \"2010-01-11\", \"2010-01-12\", \"2010-01-13\", \"2010-01-14\", \"2010-01-15\"], \"y\": [19.44, 19.38, 20.0, 20.61, 21.2, 20.71, 20.28, 20.98, 20.96, 20.8], \"type\": \"scatter\", \"uid\": \"38c503fd-3234-4918-9141-f1f8dae0d158\"}], {\"legend\": {\"orientation\": \"h\"}, \"title\": {\"text\": \"Closing prices of 10 random assets\"}, \"xaxis\": {\"title\": {\"text\": \"Month\"}}, \"yaxis\": {\"title\": {\"text\": \"Price (USD)\"}}}, {\"showLink\": false, \"linkText\": \"Export to plot.ly\", \"plotlyServerURL\": \"https://plot.ly\"}); \n",
       "}\n",
       "});</script><script type=\"text/javascript\">window.addEventListener(\"resize\", function(){if (document.getElementById(\"c77739c9-ff9e-40a9-b03a-caef58cce103\")) {window._Plotly.Plots.resize(document.getElementById(\"c77739c9-ff9e-40a9-b03a-caef58cce103\"));};})</script>"
      ]
     },
     "metadata": {},
     "output_type": "display_data"
    }
   ],
   "source": [
    "data = []\n",
    "for asset in np.random.choice(market_train_df['assetName'].unique(), 10):\n",
    "    asset_df = market_train_df[(market_train_df['assetName'] == asset)]\n",
    "\n",
    "    data.append(go.Scatter(\n",
    "        x = asset_df['time'].dt.strftime(date_format='%Y-%m-%d').values,\n",
    "        y = asset_df['close'].values,\n",
    "        name = asset\n",
    "    ))\n",
    "layout = go.Layout(dict(title = \"Closing prices of 10 random assets\",\n",
    "                  xaxis = dict(title = 'Month'),\n",
    "                  yaxis = dict(title = 'Price (USD)'),\n",
    "                  ),legend=dict(\n",
    "                orientation=\"h\"))\n",
    "py.iplot(dict(data=data, layout=layout), filename='basic-line')"
   ]
  },
  {
   "cell_type": "markdown",
   "metadata": {
    "_uuid": "dae9a9525d26e61fc597f6c107e3a0680df2384d"
   },
   "source": [
    "I plot data for all periods because I'd like to show long-term trends.\n",
    "Assets are sampled randomly, but you should see that some companies' stocks started trading later, some dissappeared. Disappearence could be due to bankruptcy, acquisition or other reasons."
   ]
  },
  {
   "cell_type": "markdown",
   "metadata": {
    "_uuid": "62ccdf6ee7c3371c8a2079c4261b5527fac0a72d"
   },
   "source": [
    "Well, these were some random companies. But it would be more interesting to see general trends of prices."
   ]
  },
  {
   "cell_type": "code",
   "execution_count": 12,
   "metadata": {
    "_kg_hide-input": true,
    "_uuid": "066d58a619d40beaf565c02064f2d1351fa717a8"
   },
   "outputs": [
    {
     "data": {
      "application/vnd.plotly.v1+json": {
       "config": {
        "linkText": "Export to plot.ly",
        "plotlyServerURL": "https://plot.ly",
        "showLink": false
       },
       "data": [
        {
         "name": "0.05 quantile",
         "type": "scatter",
         "uid": "838a5450-73ed-4efe-ab91-5c6421aa2680",
         "x": [
          "2010-01-04",
          "2010-01-05",
          "2010-01-06",
          "2010-01-07",
          "2010-01-08",
          "2010-01-11",
          "2010-01-12",
          "2010-01-13",
          "2010-01-14",
          "2010-01-15"
         ],
         "y": [
          6.77,
          6.87,
          6.831,
          6.9245,
          6.895500000000001,
          6.945,
          6.91,
          6.8425,
          6.912,
          6.7945
         ]
        },
        {
         "name": "0.1 quantile",
         "type": "scatter",
         "uid": "141cd603-12a9-4925-8e32-19de7f5a0516",
         "x": [
          "2010-01-04",
          "2010-01-05",
          "2010-01-06",
          "2010-01-07",
          "2010-01-08",
          "2010-01-11",
          "2010-01-12",
          "2010-01-13",
          "2010-01-14",
          "2010-01-15"
         ],
         "y": [
          8.902000000000001,
          8.94,
          8.991999999999999,
          9.088,
          9.027999999999999,
          9.132000000000001,
          9.062000000000001,
          9.105,
          9.172,
          9.058000000000002
         ]
        },
        {
         "name": "0.25 quantile",
         "type": "scatter",
         "uid": "5b13cf64-7a97-407d-bdb6-b574774fea7c",
         "x": [
          "2010-01-04",
          "2010-01-05",
          "2010-01-06",
          "2010-01-07",
          "2010-01-08",
          "2010-01-11",
          "2010-01-12",
          "2010-01-13",
          "2010-01-14",
          "2010-01-15"
         ],
         "y": [
          15.49,
          15.715,
          15.725,
          15.807500000000001,
          15.9575,
          15.96,
          15.69,
          15.922500000000001,
          15.905000000000001,
          15.615
         ]
        },
        {
         "name": "0.5 quantile",
         "type": "scatter",
         "uid": "f4a3a0af-7544-4d11-96d8-3e9d6e15e5c9",
         "x": [
          "2010-01-04",
          "2010-01-05",
          "2010-01-06",
          "2010-01-07",
          "2010-01-08",
          "2010-01-11",
          "2010-01-12",
          "2010-01-13",
          "2010-01-14",
          "2010-01-15"
         ],
         "y": [
          26.01,
          26.3,
          26.235,
          26.265,
          26.265,
          26.35,
          25.884999999999998,
          26.225,
          26.23,
          25.905
         ]
        },
        {
         "name": "0.75 quantile",
         "type": "scatter",
         "uid": "212456ea-9299-442f-b3d0-f55c4a10cef3",
         "x": [
          "2010-01-04",
          "2010-01-05",
          "2010-01-06",
          "2010-01-07",
          "2010-01-08",
          "2010-01-11",
          "2010-01-12",
          "2010-01-13",
          "2010-01-14",
          "2010-01-15"
         ],
         "y": [
          42.07,
          42.12,
          42.2225,
          42.082499999999996,
          42.412499999999994,
          42.425,
          42.0225,
          42.285000000000004,
          42.325,
          41.77
         ]
        },
        {
         "name": "0.9 quantile",
         "type": "scatter",
         "uid": "e1787458-bcb0-4241-b16e-41de0556cd7e",
         "x": [
          "2010-01-04",
          "2010-01-05",
          "2010-01-06",
          "2010-01-07",
          "2010-01-08",
          "2010-01-11",
          "2010-01-12",
          "2010-01-13",
          "2010-01-14",
          "2010-01-15"
         ],
         "y": [
          58.664000000000016,
          58.78600000000005,
          59.05800000000001,
          59.44800000000001,
          59.73800000000004,
          59.745999999999995,
          59.47399999999999,
          59.345,
          59.67799999999999,
          58.77300000000001
         ]
        },
        {
         "name": "0.95 quantile",
         "type": "scatter",
         "uid": "ac0d4efb-dabf-49bb-9870-8d888394d0e0",
         "x": [
          "2010-01-04",
          "2010-01-05",
          "2010-01-06",
          "2010-01-07",
          "2010-01-08",
          "2010-01-11",
          "2010-01-12",
          "2010-01-13",
          "2010-01-14",
          "2010-01-15"
         ],
         "y": [
          72.93199999999993,
          73.56900000000002,
          73.30750000000003,
          73.1105,
          73.851,
          73.41899999999997,
          72.1819999999999,
          72.5175,
          73.25099999999993,
          72.123
         ]
        }
       ],
       "layout": {
        "legend": {
         "orientation": "h"
        },
        "title": {
         "text": "Trends of closing prices by quantiles"
        },
        "xaxis": {
         "title": {
          "text": "Month"
         }
        },
        "yaxis": {
         "title": {
          "text": "Price (USD)"
         }
        }
       }
      },
      "text/html": [
       "<div id=\"89256a70-556a-49cc-9005-ae93b7c2412f\" style=\"height: 525px; width: 100%;\" class=\"plotly-graph-div\"></div><script type=\"text/javascript\">require([\"plotly\"], function(Plotly) { window.PLOTLYENV=window.PLOTLYENV || {};window.PLOTLYENV.BASE_URL=\"https://plot.ly\";\n",
       "if (document.getElementById(\"89256a70-556a-49cc-9005-ae93b7c2412f\")) {\n",
       "    Plotly.newPlot(\"89256a70-556a-49cc-9005-ae93b7c2412f\", [{\"name\": \"0.05 quantile\", \"x\": [\"2010-01-04\", \"2010-01-05\", \"2010-01-06\", \"2010-01-07\", \"2010-01-08\", \"2010-01-11\", \"2010-01-12\", \"2010-01-13\", \"2010-01-14\", \"2010-01-15\"], \"y\": [6.77, 6.87, 6.831, 6.9245, 6.895500000000001, 6.945, 6.91, 6.8425, 6.912, 6.7945], \"type\": \"scatter\", \"uid\": \"5223bf83-1088-47aa-af23-28646cdc14a9\"}, {\"name\": \"0.1 quantile\", \"x\": [\"2010-01-04\", \"2010-01-05\", \"2010-01-06\", \"2010-01-07\", \"2010-01-08\", \"2010-01-11\", \"2010-01-12\", \"2010-01-13\", \"2010-01-14\", \"2010-01-15\"], \"y\": [8.902000000000001, 8.94, 8.991999999999999, 9.088, 9.027999999999999, 9.132000000000001, 9.062000000000001, 9.105, 9.172, 9.058000000000002], \"type\": \"scatter\", \"uid\": \"8356e650-1575-4c48-bb3d-f20f255d355b\"}, {\"name\": \"0.25 quantile\", \"x\": [\"2010-01-04\", \"2010-01-05\", \"2010-01-06\", \"2010-01-07\", \"2010-01-08\", \"2010-01-11\", \"2010-01-12\", \"2010-01-13\", \"2010-01-14\", \"2010-01-15\"], \"y\": [15.49, 15.715, 15.725, 15.807500000000001, 15.9575, 15.96, 15.69, 15.922500000000001, 15.905000000000001, 15.615], \"type\": \"scatter\", \"uid\": \"e48e0471-75a3-4150-ab2c-c57e1a16fcbd\"}, {\"name\": \"0.5 quantile\", \"x\": [\"2010-01-04\", \"2010-01-05\", \"2010-01-06\", \"2010-01-07\", \"2010-01-08\", \"2010-01-11\", \"2010-01-12\", \"2010-01-13\", \"2010-01-14\", \"2010-01-15\"], \"y\": [26.01, 26.3, 26.235, 26.265, 26.265, 26.35, 25.884999999999998, 26.225, 26.23, 25.905], \"type\": \"scatter\", \"uid\": \"01c0c9ef-3b54-4fba-9aa6-198f7e63b2d4\"}, {\"name\": \"0.75 quantile\", \"x\": [\"2010-01-04\", \"2010-01-05\", \"2010-01-06\", \"2010-01-07\", \"2010-01-08\", \"2010-01-11\", \"2010-01-12\", \"2010-01-13\", \"2010-01-14\", \"2010-01-15\"], \"y\": [42.07, 42.12, 42.2225, 42.082499999999996, 42.412499999999994, 42.425, 42.0225, 42.285000000000004, 42.325, 41.77], \"type\": \"scatter\", \"uid\": \"35a9aa7f-1861-426f-8974-582abf913500\"}, {\"name\": \"0.9 quantile\", \"x\": [\"2010-01-04\", \"2010-01-05\", \"2010-01-06\", \"2010-01-07\", \"2010-01-08\", \"2010-01-11\", \"2010-01-12\", \"2010-01-13\", \"2010-01-14\", \"2010-01-15\"], \"y\": [58.664000000000016, 58.78600000000005, 59.05800000000001, 59.44800000000001, 59.73800000000004, 59.745999999999995, 59.47399999999999, 59.345, 59.67799999999999, 58.77300000000001], \"type\": \"scatter\", \"uid\": \"d36a0752-cd20-4c13-87aa-1063f96525ea\"}, {\"name\": \"0.95 quantile\", \"x\": [\"2010-01-04\", \"2010-01-05\", \"2010-01-06\", \"2010-01-07\", \"2010-01-08\", \"2010-01-11\", \"2010-01-12\", \"2010-01-13\", \"2010-01-14\", \"2010-01-15\"], \"y\": [72.93199999999993, 73.56900000000002, 73.30750000000003, 73.1105, 73.851, 73.41899999999997, 72.1819999999999, 72.5175, 73.25099999999993, 72.123], \"type\": \"scatter\", \"uid\": \"e699aa89-1162-411a-b337-4efc32e5a943\"}], {\"legend\": {\"orientation\": \"h\"}, \"title\": {\"text\": \"Trends of closing prices by quantiles\"}, \"xaxis\": {\"title\": {\"text\": \"Month\"}}, \"yaxis\": {\"title\": {\"text\": \"Price (USD)\"}}}, {\"showLink\": false, \"linkText\": \"Export to plot.ly\", \"plotlyServerURL\": \"https://plot.ly\"}); \n",
       "}\n",
       "});</script><script type=\"text/javascript\">window.addEventListener(\"resize\", function(){if (document.getElementById(\"89256a70-556a-49cc-9005-ae93b7c2412f\")) {window._Plotly.Plots.resize(document.getElementById(\"89256a70-556a-49cc-9005-ae93b7c2412f\"));};})</script>"
      ],
      "text/vnd.plotly.v1+html": [
       "<div id=\"89256a70-556a-49cc-9005-ae93b7c2412f\" style=\"height: 525px; width: 100%;\" class=\"plotly-graph-div\"></div><script type=\"text/javascript\">require([\"plotly\"], function(Plotly) { window.PLOTLYENV=window.PLOTLYENV || {};window.PLOTLYENV.BASE_URL=\"https://plot.ly\";\n",
       "if (document.getElementById(\"89256a70-556a-49cc-9005-ae93b7c2412f\")) {\n",
       "    Plotly.newPlot(\"89256a70-556a-49cc-9005-ae93b7c2412f\", [{\"name\": \"0.05 quantile\", \"x\": [\"2010-01-04\", \"2010-01-05\", \"2010-01-06\", \"2010-01-07\", \"2010-01-08\", \"2010-01-11\", \"2010-01-12\", \"2010-01-13\", \"2010-01-14\", \"2010-01-15\"], \"y\": [6.77, 6.87, 6.831, 6.9245, 6.895500000000001, 6.945, 6.91, 6.8425, 6.912, 6.7945], \"type\": \"scatter\", \"uid\": \"5223bf83-1088-47aa-af23-28646cdc14a9\"}, {\"name\": \"0.1 quantile\", \"x\": [\"2010-01-04\", \"2010-01-05\", \"2010-01-06\", \"2010-01-07\", \"2010-01-08\", \"2010-01-11\", \"2010-01-12\", \"2010-01-13\", \"2010-01-14\", \"2010-01-15\"], \"y\": [8.902000000000001, 8.94, 8.991999999999999, 9.088, 9.027999999999999, 9.132000000000001, 9.062000000000001, 9.105, 9.172, 9.058000000000002], \"type\": \"scatter\", \"uid\": \"8356e650-1575-4c48-bb3d-f20f255d355b\"}, {\"name\": \"0.25 quantile\", \"x\": [\"2010-01-04\", \"2010-01-05\", \"2010-01-06\", \"2010-01-07\", \"2010-01-08\", \"2010-01-11\", \"2010-01-12\", \"2010-01-13\", \"2010-01-14\", \"2010-01-15\"], \"y\": [15.49, 15.715, 15.725, 15.807500000000001, 15.9575, 15.96, 15.69, 15.922500000000001, 15.905000000000001, 15.615], \"type\": \"scatter\", \"uid\": \"e48e0471-75a3-4150-ab2c-c57e1a16fcbd\"}, {\"name\": \"0.5 quantile\", \"x\": [\"2010-01-04\", \"2010-01-05\", \"2010-01-06\", \"2010-01-07\", \"2010-01-08\", \"2010-01-11\", \"2010-01-12\", \"2010-01-13\", \"2010-01-14\", \"2010-01-15\"], \"y\": [26.01, 26.3, 26.235, 26.265, 26.265, 26.35, 25.884999999999998, 26.225, 26.23, 25.905], \"type\": \"scatter\", \"uid\": \"01c0c9ef-3b54-4fba-9aa6-198f7e63b2d4\"}, {\"name\": \"0.75 quantile\", \"x\": [\"2010-01-04\", \"2010-01-05\", \"2010-01-06\", \"2010-01-07\", \"2010-01-08\", \"2010-01-11\", \"2010-01-12\", \"2010-01-13\", \"2010-01-14\", \"2010-01-15\"], \"y\": [42.07, 42.12, 42.2225, 42.082499999999996, 42.412499999999994, 42.425, 42.0225, 42.285000000000004, 42.325, 41.77], \"type\": \"scatter\", \"uid\": \"35a9aa7f-1861-426f-8974-582abf913500\"}, {\"name\": \"0.9 quantile\", \"x\": [\"2010-01-04\", \"2010-01-05\", \"2010-01-06\", \"2010-01-07\", \"2010-01-08\", \"2010-01-11\", \"2010-01-12\", \"2010-01-13\", \"2010-01-14\", \"2010-01-15\"], \"y\": [58.664000000000016, 58.78600000000005, 59.05800000000001, 59.44800000000001, 59.73800000000004, 59.745999999999995, 59.47399999999999, 59.345, 59.67799999999999, 58.77300000000001], \"type\": \"scatter\", \"uid\": \"d36a0752-cd20-4c13-87aa-1063f96525ea\"}, {\"name\": \"0.95 quantile\", \"x\": [\"2010-01-04\", \"2010-01-05\", \"2010-01-06\", \"2010-01-07\", \"2010-01-08\", \"2010-01-11\", \"2010-01-12\", \"2010-01-13\", \"2010-01-14\", \"2010-01-15\"], \"y\": [72.93199999999993, 73.56900000000002, 73.30750000000003, 73.1105, 73.851, 73.41899999999997, 72.1819999999999, 72.5175, 73.25099999999993, 72.123], \"type\": \"scatter\", \"uid\": \"e699aa89-1162-411a-b337-4efc32e5a943\"}], {\"legend\": {\"orientation\": \"h\"}, \"title\": {\"text\": \"Trends of closing prices by quantiles\"}, \"xaxis\": {\"title\": {\"text\": \"Month\"}}, \"yaxis\": {\"title\": {\"text\": \"Price (USD)\"}}}, {\"showLink\": false, \"linkText\": \"Export to plot.ly\", \"plotlyServerURL\": \"https://plot.ly\"}); \n",
       "}\n",
       "});</script><script type=\"text/javascript\">window.addEventListener(\"resize\", function(){if (document.getElementById(\"89256a70-556a-49cc-9005-ae93b7c2412f\")) {window._Plotly.Plots.resize(document.getElementById(\"89256a70-556a-49cc-9005-ae93b7c2412f\"));};})</script>"
      ]
     },
     "metadata": {},
     "output_type": "display_data"
    }
   ],
   "source": [
    "data = []\n",
    "#market_train_df['close'] = market_train_df['close'] / 20\n",
    "for i in [0.05, 0.1, 0.25, 0.5, 0.75, 0.9, 0.95]:\n",
    "    price_df = market_train_df.groupby('time')['close'].quantile(i).reset_index()\n",
    "\n",
    "    data.append(go.Scatter(\n",
    "        x = price_df['time'].dt.strftime(date_format='%Y-%m-%d').values,\n",
    "        y = price_df['close'].values,\n",
    "        name = f'{i} quantile'\n",
    "    ))\n",
    "layout = go.Layout(dict(title = \"Trends of closing prices by quantiles\",\n",
    "                  xaxis = dict(title = 'Month'),\n",
    "                  yaxis = dict(title = 'Price (USD)'),\n",
    "                  ),legend=dict(\n",
    "                orientation=\"h\"))\n",
    "py.iplot(dict(data=data, layout=layout), filename='basic-line')"
   ]
  },
  {
   "cell_type": "markdown",
   "metadata": {
    "_uuid": "7620510c704631bb04200c6a47ff01b0025befbd"
   },
   "source": [
    "It is cool to be able to see how markets fall and rise again.\n",
    "I have shown 4 events when there were serious stock price drops on the market.\n",
    "You could also notice that higher quantile prices have increased with time and lower quantile prices decreased.\n",
    "Maybe the gap between poor and rich increases... on the other hand maybe more \"little\" companies are ready to go to market and prices of their shares isn't very high."
   ]
  },
  {
   "cell_type": "markdown",
   "metadata": {
    "_uuid": "19a6cf416e4b7d88b1dcdf5ef37565307ce5d3ce"
   },
   "source": [
    "Now, let's look at these price drops in details."
   ]
  },
  {
   "cell_type": "code",
   "execution_count": 13,
   "metadata": {
    "_uuid": "8ca5182693d1826b459101b54dd23f6d7bf69b3d",
    "scrolled": true
   },
   "outputs": [],
   "source": [
    "market_train_df['price_diff'] = market_train_df['close'] - market_train_df['open']\n",
    "grouped = market_train_df.groupby('time').agg({'price_diff': ['std', 'min']}).reset_index()"
   ]
  },
  {
   "cell_type": "code",
   "execution_count": 14,
   "metadata": {
    "_kg_hide-input": true,
    "_uuid": "a21c4b16636acb7cc98caa354bb06ea989d6373f",
    "scrolled": false
   },
   "outputs": [
    {
     "name": "stdout",
     "output_type": "stream",
     "text": [
      "Average standard deviation of price change within a day in 26.1834.\n"
     ]
    }
   ],
   "source": [
    "print(f\"Average standard deviation of price change within a day in {grouped['price_diff']['std'].mean():.4f}.\")"
   ]
  },
  {
   "cell_type": "code",
   "execution_count": 15,
   "metadata": {
    "_uuid": "4be3e4c4cc550f67bb77eea9f42a935f6574d48b"
   },
   "outputs": [
    {
     "data": {
      "application/vnd.plotly.v1+json": {
       "config": {
        "linkText": "Export to plot.ly",
        "plotlyServerURL": "https://plot.ly",
        "showLink": false
       },
       "data": [
        {
         "marker": {
          "color": [
           256.120930970045,
           0.8370652445686445,
           0.6799675609931026,
           0.663937804232197,
           0.6400548866206728,
           0.628988551062428,
           0.6194275697279126,
           0.5952167745707908,
           0.5398277467054562,
           0.5086775680963516
          ],
          "colorscale": "Portland",
          "showscale": true,
          "size": [
           256.120930970045,
           0.8370652445686445,
           0.6799675609931026,
           0.663937804232197,
           0.6400548866206728,
           0.628988551062428,
           0.6194275697279126,
           0.5952167745707908,
           0.5398277467054562,
           0.5086775680963516
          ]
         },
         "mode": "markers",
         "text": [
          "Maximum price drop: 9948.99",
          "Maximum price drop: 6.8700000000000045",
          "Maximum price drop: 6.080000000000041",
          "Maximum price drop: 6.170000000000016",
          "Maximum price drop: 7.4199999999999875",
          "Maximum price drop: 2.0200000000000102",
          "Maximum price drop: 7.240000000000009",
          "Maximum price drop: 5.180000000000007",
          "Maximum price drop: 5.469999999999999",
          "Maximum price drop: 4.210000000000008"
         ],
         "type": "scatter",
         "uid": "f7b8f47e-6798-4c90-a5cf-2344f1631961",
         "x": [
          "2010-01-04",
          "2010-01-14",
          "2010-01-05",
          "2010-01-11",
          "2010-01-06",
          "2010-01-08",
          "2010-01-12",
          "2010-01-07",
          "2010-01-15",
          "2010-01-13"
         ],
         "y": [
          256.120930970045,
          0.8370652445686445,
          0.6799675609931026,
          0.663937804232197,
          0.6400548866206728,
          0.628988551062428,
          0.6194275697279126,
          0.5952167745707908,
          0.5398277467054562,
          0.5086775680963516
         ]
        }
       ],
       "layout": {
        "autosize": true,
        "hovermode": "closest",
        "showlegend": false,
        "title": {
         "text": "Top 10 months by standard deviation of price change within a day"
        },
        "yaxis": {
         "gridwidth": 2,
         "ticklen": 5,
         "title": {
          "text": "price_diff"
         }
        }
       }
      },
      "text/html": [
       "<div id=\"4ba53116-0a57-4b49-b517-1d19f64a3cc9\" style=\"height: 525px; width: 100%;\" class=\"plotly-graph-div\"></div><script type=\"text/javascript\">require([\"plotly\"], function(Plotly) { window.PLOTLYENV=window.PLOTLYENV || {};window.PLOTLYENV.BASE_URL=\"https://plot.ly\";\n",
       "if (document.getElementById(\"4ba53116-0a57-4b49-b517-1d19f64a3cc9\")) {\n",
       "    Plotly.newPlot(\"4ba53116-0a57-4b49-b517-1d19f64a3cc9\", [{\"marker\": {\"color\": [256.120930970045, 0.8370652445686445, 0.6799675609931026, 0.663937804232197, 0.6400548866206728, 0.628988551062428, 0.6194275697279126, 0.5952167745707908, 0.5398277467054562, 0.5086775680963516], \"colorscale\": \"Portland\", \"showscale\": true, \"size\": [256.120930970045, 0.8370652445686445, 0.6799675609931026, 0.663937804232197, 0.6400548866206728, 0.628988551062428, 0.6194275697279126, 0.5952167745707908, 0.5398277467054562, 0.5086775680963516]}, \"mode\": \"markers\", \"text\": [\"Maximum price drop: 9948.99\", \"Maximum price drop: 6.8700000000000045\", \"Maximum price drop: 6.080000000000041\", \"Maximum price drop: 6.170000000000016\", \"Maximum price drop: 7.4199999999999875\", \"Maximum price drop: 2.0200000000000102\", \"Maximum price drop: 7.240000000000009\", \"Maximum price drop: 5.180000000000007\", \"Maximum price drop: 5.469999999999999\", \"Maximum price drop: 4.210000000000008\"], \"x\": [\"2010-01-04\", \"2010-01-14\", \"2010-01-05\", \"2010-01-11\", \"2010-01-06\", \"2010-01-08\", \"2010-01-12\", \"2010-01-07\", \"2010-01-15\", \"2010-01-13\"], \"y\": [256.120930970045, 0.8370652445686445, 0.6799675609931026, 0.663937804232197, 0.6400548866206728, 0.628988551062428, 0.6194275697279126, 0.5952167745707908, 0.5398277467054562, 0.5086775680963516], \"type\": \"scatter\", \"uid\": \"f7b8f47e-6798-4c90-a5cf-2344f1631961\"}], {\"autosize\": true, \"hovermode\": \"closest\", \"showlegend\": false, \"title\": {\"text\": \"Top 10 months by standard deviation of price change within a day\"}, \"yaxis\": {\"gridwidth\": 2, \"ticklen\": 5, \"title\": {\"text\": \"price_diff\"}}}, {\"showLink\": false, \"linkText\": \"Export to plot.ly\", \"plotlyServerURL\": \"https://plot.ly\"}); \n",
       "}\n",
       "});</script><script type=\"text/javascript\">window.addEventListener(\"resize\", function(){if (document.getElementById(\"4ba53116-0a57-4b49-b517-1d19f64a3cc9\")) {window._Plotly.Plots.resize(document.getElementById(\"4ba53116-0a57-4b49-b517-1d19f64a3cc9\"));};})</script>"
      ],
      "text/vnd.plotly.v1+html": [
       "<div id=\"4ba53116-0a57-4b49-b517-1d19f64a3cc9\" style=\"height: 525px; width: 100%;\" class=\"plotly-graph-div\"></div><script type=\"text/javascript\">require([\"plotly\"], function(Plotly) { window.PLOTLYENV=window.PLOTLYENV || {};window.PLOTLYENV.BASE_URL=\"https://plot.ly\";\n",
       "if (document.getElementById(\"4ba53116-0a57-4b49-b517-1d19f64a3cc9\")) {\n",
       "    Plotly.newPlot(\"4ba53116-0a57-4b49-b517-1d19f64a3cc9\", [{\"marker\": {\"color\": [256.120930970045, 0.8370652445686445, 0.6799675609931026, 0.663937804232197, 0.6400548866206728, 0.628988551062428, 0.6194275697279126, 0.5952167745707908, 0.5398277467054562, 0.5086775680963516], \"colorscale\": \"Portland\", \"showscale\": true, \"size\": [256.120930970045, 0.8370652445686445, 0.6799675609931026, 0.663937804232197, 0.6400548866206728, 0.628988551062428, 0.6194275697279126, 0.5952167745707908, 0.5398277467054562, 0.5086775680963516]}, \"mode\": \"markers\", \"text\": [\"Maximum price drop: 9948.99\", \"Maximum price drop: 6.8700000000000045\", \"Maximum price drop: 6.080000000000041\", \"Maximum price drop: 6.170000000000016\", \"Maximum price drop: 7.4199999999999875\", \"Maximum price drop: 2.0200000000000102\", \"Maximum price drop: 7.240000000000009\", \"Maximum price drop: 5.180000000000007\", \"Maximum price drop: 5.469999999999999\", \"Maximum price drop: 4.210000000000008\"], \"x\": [\"2010-01-04\", \"2010-01-14\", \"2010-01-05\", \"2010-01-11\", \"2010-01-06\", \"2010-01-08\", \"2010-01-12\", \"2010-01-07\", \"2010-01-15\", \"2010-01-13\"], \"y\": [256.120930970045, 0.8370652445686445, 0.6799675609931026, 0.663937804232197, 0.6400548866206728, 0.628988551062428, 0.6194275697279126, 0.5952167745707908, 0.5398277467054562, 0.5086775680963516], \"type\": \"scatter\", \"uid\": \"f7b8f47e-6798-4c90-a5cf-2344f1631961\"}], {\"autosize\": true, \"hovermode\": \"closest\", \"showlegend\": false, \"title\": {\"text\": \"Top 10 months by standard deviation of price change within a day\"}, \"yaxis\": {\"gridwidth\": 2, \"ticklen\": 5, \"title\": {\"text\": \"price_diff\"}}}, {\"showLink\": false, \"linkText\": \"Export to plot.ly\", \"plotlyServerURL\": \"https://plot.ly\"}); \n",
       "}\n",
       "});</script><script type=\"text/javascript\">window.addEventListener(\"resize\", function(){if (document.getElementById(\"4ba53116-0a57-4b49-b517-1d19f64a3cc9\")) {window._Plotly.Plots.resize(document.getElementById(\"4ba53116-0a57-4b49-b517-1d19f64a3cc9\"));};})</script>"
      ]
     },
     "metadata": {},
     "output_type": "display_data"
    }
   ],
   "source": [
    "g = grouped.sort_values(('price_diff', 'std'), ascending=False)[:10]\n",
    "g['min_text'] = 'Maximum price drop: ' + (-1 * g['price_diff']['min']).astype(str)\n",
    "trace = go.Scatter(\n",
    "    x = g['time'].dt.strftime(date_format='%Y-%m-%d').values,\n",
    "    y = g['price_diff']['std'].values,\n",
    "    mode='markers',\n",
    "    marker=dict(\n",
    "        size = g['price_diff']['std'].values,\n",
    "        color = g['price_diff']['std'].values,\n",
    "        colorscale='Portland',\n",
    "        showscale=True\n",
    "    ),\n",
    "    text = g['min_text'].values\n",
    "    #text = f\"Maximum price drop: {g['price_diff']['min'].values}\"\n",
    "    #g['time'].dt.strftime(date_format='%Y-%m-%d').values\n",
    ")\n",
    "data = [trace]\n",
    "\n",
    "layout= go.Layout(\n",
    "    autosize= True,\n",
    "    title= 'Top 10 months by standard deviation of price change within a day',\n",
    "    hovermode= 'closest',\n",
    "    yaxis=dict(\n",
    "        title= 'price_diff',\n",
    "        ticklen= 5,\n",
    "        gridwidth= 2,\n",
    "    ),\n",
    "    showlegend= False\n",
    ")\n",
    "fig = go.Figure(data=data, layout=layout)\n",
    "py.iplot(fig,filename='scatter2010')"
   ]
  },
  {
   "cell_type": "markdown",
   "metadata": {
    "_uuid": "c7e55d1b2db816c00d5cc66f373949ec010c0494"
   },
   "source": [
    "We can see huge price fluctiations when market crashed. Just think about it... **But this is wrong!** There was no huge crash on January 2010... Let's dive into the data!"
   ]
  },
  {
   "cell_type": "markdown",
   "metadata": {
    "_uuid": "f4c43e1d3dc085b540af9736043089f5fb386f6b"
   },
   "source": [
    "### Possible data errors\n",
    "\n",
    "At first let's simply sort data by the difference between open and close prices."
   ]
  },
  {
   "cell_type": "code",
   "execution_count": 16,
   "metadata": {
    "_uuid": "fd332dac81171201abbefcf3a42cc0a2c315d895"
   },
   "outputs": [
    {
     "data": {
      "text/html": [
       "<div>\n",
       "<style scoped>\n",
       "    .dataframe tbody tr th:only-of-type {\n",
       "        vertical-align: middle;\n",
       "    }\n",
       "\n",
       "    .dataframe tbody tr th {\n",
       "        vertical-align: top;\n",
       "    }\n",
       "\n",
       "    .dataframe thead th {\n",
       "        text-align: right;\n",
       "    }\n",
       "</style>\n",
       "<table border=\"1\" class=\"dataframe\">\n",
       "  <thead>\n",
       "    <tr style=\"text-align: right;\">\n",
       "      <th></th>\n",
       "      <th>time</th>\n",
       "      <th>assetCode</th>\n",
       "      <th>assetName</th>\n",
       "      <th>volume</th>\n",
       "      <th>close</th>\n",
       "      <th>open</th>\n",
       "      <th>returnsClosePrevRaw1</th>\n",
       "      <th>returnsOpenPrevRaw1</th>\n",
       "      <th>returnsClosePrevMktres1</th>\n",
       "      <th>returnsOpenPrevMktres1</th>\n",
       "      <th>returnsClosePrevRaw10</th>\n",
       "      <th>returnsOpenPrevRaw10</th>\n",
       "      <th>returnsClosePrevMktres10</th>\n",
       "      <th>returnsOpenPrevMktres10</th>\n",
       "      <th>returnsOpenNextMktres10</th>\n",
       "      <th>universe</th>\n",
       "      <th>price_diff</th>\n",
       "    </tr>\n",
       "  </thead>\n",
       "  <tbody>\n",
       "    <tr>\n",
       "      <th>1381</th>\n",
       "      <td>2010-01-04 22:00:00+00:00</td>\n",
       "      <td>TW.N</td>\n",
       "      <td>Towers Watson &amp; Co</td>\n",
       "      <td>223136</td>\n",
       "      <td>50.00</td>\n",
       "      <td>9998.99</td>\n",
       "      <td>-0.058470</td>\n",
       "      <td>185.988360</td>\n",
       "      <td>-0.056911</td>\n",
       "      <td>163.671298</td>\n",
       "      <td>-0.024316</td>\n",
       "      <td>189.918708</td>\n",
       "      <td>0.034162</td>\n",
       "      <td>188.184866</td>\n",
       "      <td>13.167586</td>\n",
       "      <td>0</td>\n",
       "      <td>-9948.99</td>\n",
       "    </tr>\n",
       "    <tr>\n",
       "      <th>4046</th>\n",
       "      <td>2010-01-06 22:00:00+00:00</td>\n",
       "      <td>PCLN.O</td>\n",
       "      <td>Booking Holdings Inc</td>\n",
       "      <td>1007726</td>\n",
       "      <td>219.08</td>\n",
       "      <td>226.50</td>\n",
       "      <td>-0.033016</td>\n",
       "      <td>0.011929</td>\n",
       "      <td>-0.033900</td>\n",
       "      <td>0.009275</td>\n",
       "      <td>-0.000684</td>\n",
       "      <td>0.044645</td>\n",
       "      <td>-0.014773</td>\n",
       "      <td>0.023874</td>\n",
       "      <td>-0.021287</td>\n",
       "      <td>1</td>\n",
       "      <td>-7.42</td>\n",
       "    </tr>\n",
       "    <tr>\n",
       "      <th>9207</th>\n",
       "      <td>2010-01-12 22:00:00+00:00</td>\n",
       "      <td>BIDU.O</td>\n",
       "      <td>Baidu Inc</td>\n",
       "      <td>3095191</td>\n",
       "      <td>386.49</td>\n",
       "      <td>393.73</td>\n",
       "      <td>-0.035150</td>\n",
       "      <td>-0.031986</td>\n",
       "      <td>-0.028018</td>\n",
       "      <td>-0.031550</td>\n",
       "      <td>-0.089090</td>\n",
       "      <td>-0.058693</td>\n",
       "      <td>-0.093520</td>\n",
       "      <td>-0.063323</td>\n",
       "      <td>-0.042600</td>\n",
       "      <td>1</td>\n",
       "      <td>-7.24</td>\n",
       "    </tr>\n",
       "    <tr>\n",
       "      <th>13398</th>\n",
       "      <td>2010-01-14 22:00:00+00:00</td>\n",
       "      <td>TSL.N</td>\n",
       "      <td>Trina Solar Ltd</td>\n",
       "      <td>8481848</td>\n",
       "      <td>52.22</td>\n",
       "      <td>59.09</td>\n",
       "      <td>-0.117607</td>\n",
       "      <td>-0.015167</td>\n",
       "      <td>-0.123000</td>\n",
       "      <td>-0.026404</td>\n",
       "      <td>-0.026110</td>\n",
       "      <td>0.133512</td>\n",
       "      <td>-0.063644</td>\n",
       "      <td>0.096839</td>\n",
       "      <td>0.118750</td>\n",
       "      <td>1</td>\n",
       "      <td>-6.87</td>\n",
       "    </tr>\n",
       "    <tr>\n",
       "      <th>12605</th>\n",
       "      <td>2010-01-14 22:00:00+00:00</td>\n",
       "      <td>FSLR.O</td>\n",
       "      <td>First Solar Inc</td>\n",
       "      <td>8296529</td>\n",
       "      <td>124.84</td>\n",
       "      <td>131.70</td>\n",
       "      <td>-0.055101</td>\n",
       "      <td>-0.016283</td>\n",
       "      <td>-0.056700</td>\n",
       "      <td>-0.020296</td>\n",
       "      <td>-0.087360</td>\n",
       "      <td>-0.027398</td>\n",
       "      <td>-0.043342</td>\n",
       "      <td>0.010981</td>\n",
       "      <td>0.039201</td>\n",
       "      <td>1</td>\n",
       "      <td>-6.86</td>\n",
       "    </tr>\n",
       "    <tr>\n",
       "      <th>9335</th>\n",
       "      <td>2010-01-12 22:00:00+00:00</td>\n",
       "      <td>CME.O</td>\n",
       "      <td>CME Group Inc</td>\n",
       "      <td>486549</td>\n",
       "      <td>342.17</td>\n",
       "      <td>348.87</td>\n",
       "      <td>-0.020272</td>\n",
       "      <td>-0.004622</td>\n",
       "      <td>-0.009597</td>\n",
       "      <td>-0.002974</td>\n",
       "      <td>0.007657</td>\n",
       "      <td>0.051225</td>\n",
       "      <td>-0.004192</td>\n",
       "      <td>0.026987</td>\n",
       "      <td>-0.037700</td>\n",
       "      <td>0</td>\n",
       "      <td>-6.70</td>\n",
       "    </tr>\n",
       "    <tr>\n",
       "      <th>7704</th>\n",
       "      <td>2010-01-11 22:00:00+00:00</td>\n",
       "      <td>BIDU.O</td>\n",
       "      <td>Baidu Inc</td>\n",
       "      <td>1221628</td>\n",
       "      <td>400.57</td>\n",
       "      <td>406.74</td>\n",
       "      <td>-0.009152</td>\n",
       "      <td>0.016799</td>\n",
       "      <td>-0.009790</td>\n",
       "      <td>0.015840</td>\n",
       "      <td>-0.037100</td>\n",
       "      <td>-0.022048</td>\n",
       "      <td>-0.046345</td>\n",
       "      <td>-0.029518</td>\n",
       "      <td>0.042737</td>\n",
       "      <td>1</td>\n",
       "      <td>-6.17</td>\n",
       "    </tr>\n",
       "    <tr>\n",
       "      <th>1694</th>\n",
       "      <td>2010-01-05 22:00:00+00:00</td>\n",
       "      <td>BIDU.O</td>\n",
       "      <td>Baidu Inc</td>\n",
       "      <td>1572565</td>\n",
       "      <td>405.90</td>\n",
       "      <td>411.98</td>\n",
       "      <td>-0.010072</td>\n",
       "      <td>-0.009663</td>\n",
       "      <td>-0.011489</td>\n",
       "      <td>-0.009327</td>\n",
       "      <td>-0.020512</td>\n",
       "      <td>-0.012394</td>\n",
       "      <td>-0.032084</td>\n",
       "      <td>-0.014767</td>\n",
       "      <td>0.047215</td>\n",
       "      <td>1</td>\n",
       "      <td>-6.08</td>\n",
       "    </tr>\n",
       "    <tr>\n",
       "      <th>185</th>\n",
       "      <td>2010-01-04 22:00:00+00:00</td>\n",
       "      <td>BIDU.O</td>\n",
       "      <td>Baidu Inc</td>\n",
       "      <td>1346667</td>\n",
       "      <td>410.03</td>\n",
       "      <td>416.00</td>\n",
       "      <td>-0.002918</td>\n",
       "      <td>-0.003855</td>\n",
       "      <td>-0.011785</td>\n",
       "      <td>-0.002793</td>\n",
       "      <td>-0.013972</td>\n",
       "      <td>-0.017083</td>\n",
       "      <td>-0.024934</td>\n",
       "      <td>-0.016970</td>\n",
       "      <td>0.046055</td>\n",
       "      <td>1</td>\n",
       "      <td>-5.97</td>\n",
       "    </tr>\n",
       "    <tr>\n",
       "      <th>3201</th>\n",
       "      <td>2010-01-06 22:00:00+00:00</td>\n",
       "      <td>BIDU.O</td>\n",
       "      <td>Baidu Inc</td>\n",
       "      <td>2343792</td>\n",
       "      <td>412.50</td>\n",
       "      <td>418.45</td>\n",
       "      <td>0.016260</td>\n",
       "      <td>0.015705</td>\n",
       "      <td>0.016008</td>\n",
       "      <td>0.015712</td>\n",
       "      <td>0.012558</td>\n",
       "      <td>0.008070</td>\n",
       "      <td>0.002796</td>\n",
       "      <td>-0.002458</td>\n",
       "      <td>0.030610</td>\n",
       "      <td>1</td>\n",
       "      <td>-5.95</td>\n",
       "    </tr>\n",
       "  </tbody>\n",
       "</table>\n",
       "</div>"
      ],
      "text/plain": [
       "                           time assetCode             assetName   volume  \\\n",
       "1381  2010-01-04 22:00:00+00:00      TW.N    Towers Watson & Co   223136   \n",
       "4046  2010-01-06 22:00:00+00:00    PCLN.O  Booking Holdings Inc  1007726   \n",
       "9207  2010-01-12 22:00:00+00:00    BIDU.O             Baidu Inc  3095191   \n",
       "13398 2010-01-14 22:00:00+00:00     TSL.N       Trina Solar Ltd  8481848   \n",
       "12605 2010-01-14 22:00:00+00:00    FSLR.O       First Solar Inc  8296529   \n",
       "9335  2010-01-12 22:00:00+00:00     CME.O         CME Group Inc   486549   \n",
       "7704  2010-01-11 22:00:00+00:00    BIDU.O             Baidu Inc  1221628   \n",
       "1694  2010-01-05 22:00:00+00:00    BIDU.O             Baidu Inc  1572565   \n",
       "185   2010-01-04 22:00:00+00:00    BIDU.O             Baidu Inc  1346667   \n",
       "3201  2010-01-06 22:00:00+00:00    BIDU.O             Baidu Inc  2343792   \n",
       "\n",
       "        close     open  returnsClosePrevRaw1  returnsOpenPrevRaw1  \\\n",
       "1381    50.00  9998.99             -0.058470           185.988360   \n",
       "4046   219.08   226.50             -0.033016             0.011929   \n",
       "9207   386.49   393.73             -0.035150            -0.031986   \n",
       "13398   52.22    59.09             -0.117607            -0.015167   \n",
       "12605  124.84   131.70             -0.055101            -0.016283   \n",
       "9335   342.17   348.87             -0.020272            -0.004622   \n",
       "7704   400.57   406.74             -0.009152             0.016799   \n",
       "1694   405.90   411.98             -0.010072            -0.009663   \n",
       "185    410.03   416.00             -0.002918            -0.003855   \n",
       "3201   412.50   418.45              0.016260             0.015705   \n",
       "\n",
       "       returnsClosePrevMktres1  returnsOpenPrevMktres1  returnsClosePrevRaw10  \\\n",
       "1381                 -0.056911              163.671298              -0.024316   \n",
       "4046                 -0.033900                0.009275              -0.000684   \n",
       "9207                 -0.028018               -0.031550              -0.089090   \n",
       "13398                -0.123000               -0.026404              -0.026110   \n",
       "12605                -0.056700               -0.020296              -0.087360   \n",
       "9335                 -0.009597               -0.002974               0.007657   \n",
       "7704                 -0.009790                0.015840              -0.037100   \n",
       "1694                 -0.011489               -0.009327              -0.020512   \n",
       "185                  -0.011785               -0.002793              -0.013972   \n",
       "3201                  0.016008                0.015712               0.012558   \n",
       "\n",
       "       returnsOpenPrevRaw10  returnsClosePrevMktres10  \\\n",
       "1381             189.918708                  0.034162   \n",
       "4046               0.044645                 -0.014773   \n",
       "9207              -0.058693                 -0.093520   \n",
       "13398              0.133512                 -0.063644   \n",
       "12605             -0.027398                 -0.043342   \n",
       "9335               0.051225                 -0.004192   \n",
       "7704              -0.022048                 -0.046345   \n",
       "1694              -0.012394                 -0.032084   \n",
       "185               -0.017083                 -0.024934   \n",
       "3201               0.008070                  0.002796   \n",
       "\n",
       "       returnsOpenPrevMktres10  returnsOpenNextMktres10  universe  price_diff  \n",
       "1381                188.184866                13.167586         0    -9948.99  \n",
       "4046                  0.023874                -0.021287         1       -7.42  \n",
       "9207                 -0.063323                -0.042600         1       -7.24  \n",
       "13398                 0.096839                 0.118750         1       -6.87  \n",
       "12605                 0.010981                 0.039201         1       -6.86  \n",
       "9335                  0.026987                -0.037700         0       -6.70  \n",
       "7704                 -0.029518                 0.042737         1       -6.17  \n",
       "1694                 -0.014767                 0.047215         1       -6.08  \n",
       "185                  -0.016970                 0.046055         1       -5.97  \n",
       "3201                 -0.002458                 0.030610         1       -5.95  "
      ]
     },
     "execution_count": 16,
     "metadata": {},
     "output_type": "execute_result"
    }
   ],
   "source": [
    "market_train_df.sort_values('price_diff')[:10]"
   ]
  },
  {
   "cell_type": "markdown",
   "metadata": {
    "_uuid": "409b5a614ff8c5efd13d9a69a81a6f0b81acf3ce"
   },
   "source": [
    "So price of \"Towers Watson & Co\" shares was almost 10k... I think this is simply an error in data.\n",
    "\n",
    "But what about Bank of New York Mellon Corp?\n",
    "\n",
    "Let's see data by Yahoo:"
   ]
  },
  {
   "cell_type": "markdown",
   "metadata": {
    "_uuid": "79fba7ac9a4162cc5d6ac93c7b366ffba2d350a0"
   },
   "source": [
    "![](https://i.imgur.com/C3COWfe.png)"
   ]
  },
  {
   "cell_type": "markdown",
   "metadata": {
    "_uuid": "e2c1089b0ba6c7dce00d398ebf5702262f98e2de"
   },
   "source": [
    "There were no spikes."
   ]
  },
  {
   "cell_type": "markdown",
   "metadata": {
    "_uuid": "143157631b3ecefbbf8c227c7c9b5bd522df2812"
   },
   "source": [
    "Another case is with cost equal to 999, such numbers are usually suspicious. Let's look at Archrock Inc - no spikes there as well.\n",
    "\n",
    "![](https://i.imgur.com/KYZKkSd.png)"
   ]
  },
  {
   "cell_type": "markdown",
   "metadata": {
    "_uuid": "9fb49e6cf41f70872a78276403f3fe4d9ed87ae4"
   },
   "source": [
    "So, let's try to find strange cases."
   ]
  },
  {
   "cell_type": "code",
   "execution_count": 17,
   "metadata": {
    "_uuid": "04fe6a44a65a7b66fa128f24acf6717eda1f6e20"
   },
   "outputs": [],
   "source": [
    "market_train_df['close_to_open'] =  np.abs(market_train_df['close'] / market_train_df['open'])"
   ]
  },
  {
   "cell_type": "code",
   "execution_count": 18,
   "metadata": {
    "_uuid": "39bf65e0c1a6fac123f5af29a76248c21c458747"
   },
   "outputs": [
    {
     "name": "stdout",
     "output_type": "stream",
     "text": [
      "In 2 lines price increased by 20% or more.\n",
      "In 1 lines price decreased by 20% or more.\n"
     ]
    }
   ],
   "source": [
    "print(f\"In {(market_train_df['close_to_open'] >= 1.2).sum()} lines price increased by 20% or more.\")\n",
    "print(f\"In {(market_train_df['close_to_open'] <= 0.8).sum()} lines price decreased by 20% or more.\")"
   ]
  },
  {
   "cell_type": "markdown",
   "metadata": {
    "_uuid": "549aabe483a6f62dd7946020d3d8e60be89919d3"
   },
   "source": [
    "Well, this isn't much considering we have more than 4 million lines and a lot of these cases are due to price falls during market crash. Well just need to deal with outliers."
   ]
  },
  {
   "cell_type": "code",
   "execution_count": 19,
   "metadata": {
    "_uuid": "47fcd3e5635e68ea9681626bfb3bc9583b76fb00"
   },
   "outputs": [
    {
     "name": "stdout",
     "output_type": "stream",
     "text": [
      "In 0 lines price increased by 100% or more.\n",
      "In 1 lines price decreased by 100% or more.\n"
     ]
    }
   ],
   "source": [
    "print(f\"In {(market_train_df['close_to_open'] >= 2).sum()} lines price increased by 100% or more.\")\n",
    "print(f\"In {(market_train_df['close_to_open'] <= 0.5).sum()} lines price decreased by 100% or more.\")"
   ]
  },
  {
   "cell_type": "markdown",
   "metadata": {
    "_uuid": "78b680921bead3d610d3ba35f6cefa98778edeff"
   },
   "source": [
    "For a quick fix I'll replace outliers in these lines with mean open or close price of this company."
   ]
  },
  {
   "cell_type": "code",
   "execution_count": 20,
   "metadata": {
    "_kg_hide-input": true,
    "_uuid": "19ef8496d92912fd56dce27ea0548c8a42c92212",
    "scrolled": true
   },
   "outputs": [],
   "source": [
    "market_train_df['assetName_mean_open'] = market_train_df.groupby('assetName')['open'].transform('mean')\n",
    "market_train_df['assetName_mean_close'] = market_train_df.groupby('assetName')['close'].transform('mean')\n",
    "\n",
    "# if open price is too far from mean open price for this company, replace it. Otherwise replace close price.\n",
    "for i, row in market_train_df.loc[market_train_df['close_to_open'] >= 2].iterrows():\n",
    "    if np.abs(row['assetName_mean_open'] - row['open']) > np.abs(row['assetName_mean_close'] - row['close']):\n",
    "        market_train_df.iloc[i,5] = row['assetName_mean_open']\n",
    "    else:\n",
    "        market_train_df.iloc[i,4] = row['assetName_mean_close']\n",
    "        \n",
    "for i, row in market_train_df.loc[market_train_df['close_to_open'] <= 0.5].iterrows():\n",
    "    if np.abs(row['assetName_mean_open'] - row['open']) > np.abs(row['assetName_mean_close'] - row['close']):\n",
    "        market_train_df.iloc[i,5] = row['assetName_mean_open']\n",
    "    else:\n",
    "        market_train_df.iloc[i,4] = row['assetName_mean_close']"
   ]
  },
  {
   "cell_type": "markdown",
   "metadata": {
    "_uuid": "a3f8287435af9eecb41e7d054ec52283a3cf40eb"
   },
   "source": [
    "Now let's try to build that graph again."
   ]
  },
  {
   "cell_type": "code",
   "execution_count": 21,
   "metadata": {
    "_kg_hide-input": true,
    "_uuid": "ca35be72e7329e2265b885c2846cac73c68e0c5f",
    "scrolled": false
   },
   "outputs": [
    {
     "data": {
      "application/vnd.plotly.v1+json": {
       "config": {
        "linkText": "Export to plot.ly",
        "plotlyServerURL": "https://plot.ly",
        "showLink": false
       },
       "data": [
        {
         "marker": {
          "color": [
           63.96170714789237,
           0.8370652445686445,
           0.6799675609931026,
           0.663937804232197,
           0.6400548866206728,
           0.628988551062428,
           0.6194275697279126,
           0.5952167745707908,
           0.5398277467054562,
           0.5086775680963516
          ],
          "colorscale": "Portland",
          "showscale": true,
          "size": [
           319.80853573946183,
           4.185326222843223,
           3.399837804965513,
           3.319689021160985,
           3.200274433103364,
           3.1449427553121403,
           3.097137848639563,
           2.976083872853954,
           2.699138733527281,
           2.543387840481758
          ]
         },
         "mode": "markers",
         "text": [
          "Maximum price drop: 2484.31",
          "Maximum price drop: 6.87",
          "Maximum price drop: 6.08",
          "Maximum price drop: 6.17",
          "Maximum price drop: 7.42",
          "Maximum price drop: 2.02",
          "Maximum price drop: 7.24",
          "Maximum price drop: 5.18",
          "Maximum price drop: 5.47",
          "Maximum price drop: 4.21"
         ],
         "type": "scatter",
         "uid": "a5d750ff-2c83-4b82-ae5c-ee763231f53c",
         "x": [
          "2010-01-04",
          "2010-01-14",
          "2010-01-05",
          "2010-01-11",
          "2010-01-06",
          "2010-01-08",
          "2010-01-12",
          "2010-01-07",
          "2010-01-15",
          "2010-01-13"
         ],
         "y": [
          63.96170714789237,
          0.8370652445686445,
          0.6799675609931026,
          0.663937804232197,
          0.6400548866206728,
          0.628988551062428,
          0.6194275697279126,
          0.5952167745707908,
          0.5398277467054562,
          0.5086775680963516
         ]
        }
       ],
       "layout": {
        "autosize": true,
        "hovermode": "closest",
        "showlegend": false,
        "title": {
         "text": "Top 10 months by standard deviation of price change within a day"
        },
        "yaxis": {
         "gridwidth": 2,
         "ticklen": 5,
         "title": {
          "text": "price_diff"
         }
        }
       }
      },
      "text/html": [
       "<div id=\"c37606a5-a111-47b3-b573-45589866dafd\" style=\"height: 525px; width: 100%;\" class=\"plotly-graph-div\"></div><script type=\"text/javascript\">require([\"plotly\"], function(Plotly) { window.PLOTLYENV=window.PLOTLYENV || {};window.PLOTLYENV.BASE_URL=\"https://plot.ly\";\n",
       "if (document.getElementById(\"c37606a5-a111-47b3-b573-45589866dafd\")) {\n",
       "    Plotly.newPlot(\"c37606a5-a111-47b3-b573-45589866dafd\", [{\"marker\": {\"color\": [63.96170714789237, 0.8370652445686445, 0.6799675609931026, 0.663937804232197, 0.6400548866206728, 0.628988551062428, 0.6194275697279126, 0.5952167745707908, 0.5398277467054562, 0.5086775680963516], \"colorscale\": \"Portland\", \"showscale\": true, \"size\": [319.80853573946183, 4.185326222843223, 3.399837804965513, 3.319689021160985, 3.200274433103364, 3.1449427553121403, 3.097137848639563, 2.976083872853954, 2.699138733527281, 2.543387840481758]}, \"mode\": \"markers\", \"text\": [\"Maximum price drop: 2484.31\", \"Maximum price drop: 6.87\", \"Maximum price drop: 6.08\", \"Maximum price drop: 6.17\", \"Maximum price drop: 7.42\", \"Maximum price drop: 2.02\", \"Maximum price drop: 7.24\", \"Maximum price drop: 5.18\", \"Maximum price drop: 5.47\", \"Maximum price drop: 4.21\"], \"x\": [\"2010-01-04\", \"2010-01-14\", \"2010-01-05\", \"2010-01-11\", \"2010-01-06\", \"2010-01-08\", \"2010-01-12\", \"2010-01-07\", \"2010-01-15\", \"2010-01-13\"], \"y\": [63.96170714789237, 0.8370652445686445, 0.6799675609931026, 0.663937804232197, 0.6400548866206728, 0.628988551062428, 0.6194275697279126, 0.5952167745707908, 0.5398277467054562, 0.5086775680963516], \"type\": \"scatter\", \"uid\": \"a5d750ff-2c83-4b82-ae5c-ee763231f53c\"}], {\"autosize\": true, \"hovermode\": \"closest\", \"showlegend\": false, \"title\": {\"text\": \"Top 10 months by standard deviation of price change within a day\"}, \"yaxis\": {\"gridwidth\": 2, \"ticklen\": 5, \"title\": {\"text\": \"price_diff\"}}}, {\"showLink\": false, \"linkText\": \"Export to plot.ly\", \"plotlyServerURL\": \"https://plot.ly\"}); \n",
       "}\n",
       "});</script><script type=\"text/javascript\">window.addEventListener(\"resize\", function(){if (document.getElementById(\"c37606a5-a111-47b3-b573-45589866dafd\")) {window._Plotly.Plots.resize(document.getElementById(\"c37606a5-a111-47b3-b573-45589866dafd\"));};})</script>"
      ],
      "text/vnd.plotly.v1+html": [
       "<div id=\"c37606a5-a111-47b3-b573-45589866dafd\" style=\"height: 525px; width: 100%;\" class=\"plotly-graph-div\"></div><script type=\"text/javascript\">require([\"plotly\"], function(Plotly) { window.PLOTLYENV=window.PLOTLYENV || {};window.PLOTLYENV.BASE_URL=\"https://plot.ly\";\n",
       "if (document.getElementById(\"c37606a5-a111-47b3-b573-45589866dafd\")) {\n",
       "    Plotly.newPlot(\"c37606a5-a111-47b3-b573-45589866dafd\", [{\"marker\": {\"color\": [63.96170714789237, 0.8370652445686445, 0.6799675609931026, 0.663937804232197, 0.6400548866206728, 0.628988551062428, 0.6194275697279126, 0.5952167745707908, 0.5398277467054562, 0.5086775680963516], \"colorscale\": \"Portland\", \"showscale\": true, \"size\": [319.80853573946183, 4.185326222843223, 3.399837804965513, 3.319689021160985, 3.200274433103364, 3.1449427553121403, 3.097137848639563, 2.976083872853954, 2.699138733527281, 2.543387840481758]}, \"mode\": \"markers\", \"text\": [\"Maximum price drop: 2484.31\", \"Maximum price drop: 6.87\", \"Maximum price drop: 6.08\", \"Maximum price drop: 6.17\", \"Maximum price drop: 7.42\", \"Maximum price drop: 2.02\", \"Maximum price drop: 7.24\", \"Maximum price drop: 5.18\", \"Maximum price drop: 5.47\", \"Maximum price drop: 4.21\"], \"x\": [\"2010-01-04\", \"2010-01-14\", \"2010-01-05\", \"2010-01-11\", \"2010-01-06\", \"2010-01-08\", \"2010-01-12\", \"2010-01-07\", \"2010-01-15\", \"2010-01-13\"], \"y\": [63.96170714789237, 0.8370652445686445, 0.6799675609931026, 0.663937804232197, 0.6400548866206728, 0.628988551062428, 0.6194275697279126, 0.5952167745707908, 0.5398277467054562, 0.5086775680963516], \"type\": \"scatter\", \"uid\": \"a5d750ff-2c83-4b82-ae5c-ee763231f53c\"}], {\"autosize\": true, \"hovermode\": \"closest\", \"showlegend\": false, \"title\": {\"text\": \"Top 10 months by standard deviation of price change within a day\"}, \"yaxis\": {\"gridwidth\": 2, \"ticklen\": 5, \"title\": {\"text\": \"price_diff\"}}}, {\"showLink\": false, \"linkText\": \"Export to plot.ly\", \"plotlyServerURL\": \"https://plot.ly\"}); \n",
       "}\n",
       "});</script><script type=\"text/javascript\">window.addEventListener(\"resize\", function(){if (document.getElementById(\"c37606a5-a111-47b3-b573-45589866dafd\")) {window._Plotly.Plots.resize(document.getElementById(\"c37606a5-a111-47b3-b573-45589866dafd\"));};})</script>"
      ]
     },
     "metadata": {},
     "output_type": "display_data"
    }
   ],
   "source": [
    "market_train_df['price_diff'] = market_train_df['close'] - market_train_df['open']\n",
    "grouped = market_train_df.groupby(['time']).agg({'price_diff': ['std', 'min']}).reset_index()\n",
    "g = grouped.sort_values(('price_diff', 'std'), ascending=False)[:10]\n",
    "g['min_text'] = 'Maximum price drop: ' + (-1 * np.round(g['price_diff']['min'], 2)).astype(str)\n",
    "trace = go.Scatter(\n",
    "    x = g['time'].dt.strftime(date_format='%Y-%m-%d').values,\n",
    "    y = g['price_diff']['std'].values,\n",
    "    mode='markers',\n",
    "    marker=dict(\n",
    "        size = g['price_diff']['std'].values * 5,\n",
    "        color = g['price_diff']['std'].values,\n",
    "        colorscale='Portland',\n",
    "        showscale=True\n",
    "    ),\n",
    "    text = g['min_text'].values\n",
    "    #text = f\"Maximum price drop: {g['price_diff']['min'].values}\"\n",
    "    #g['time'].dt.strftime(date_format='%Y-%m-%d').values\n",
    ")\n",
    "data = [trace]\n",
    "\n",
    "layout= go.Layout(\n",
    "    autosize= True,\n",
    "    title= 'Top 10 months by standard deviation of price change within a day',\n",
    "    hovermode= 'closest',\n",
    "    yaxis=dict(\n",
    "        title= 'price_diff',\n",
    "        ticklen= 5,\n",
    "        gridwidth= 2,\n",
    "    ),\n",
    "    showlegend= False\n",
    ")\n",
    "fig = go.Figure(data=data, layout=layout)\n",
    "py.iplot(fig,filename='scatter2010')"
   ]
  },
  {
   "cell_type": "markdown",
   "metadata": {
    "_uuid": "6451f892eb30e9ed887e3fc3bba0e4577af87655"
   },
   "source": [
    "Now the graph is much more reasonable."
   ]
  },
  {
   "cell_type": "markdown",
   "metadata": {
    "_uuid": "ba7e227d09cb2954e1339aab21a4c49fbe53a90e"
   },
   "source": [
    "Now let's take a look at out target variable."
   ]
  },
  {
   "cell_type": "code",
   "execution_count": 22,
   "metadata": {
    "_kg_hide-input": true,
    "_uuid": "fc11eb700da57c528111c751f83bb1fc67446489",
    "scrolled": false
   },
   "outputs": [
    {
     "data": {
      "application/vnd.plotly.v1+json": {
       "config": {
        "linkText": "Export to plot.ly",
        "plotlyServerURL": "https://plot.ly",
        "showLink": false
       },
       "data": [
        {
         "name": "0.05 quantile",
         "type": "scatter",
         "uid": "0509de67-10e7-4611-b373-c079c0ae7da5",
         "x": [
          "2010-01-04",
          "2010-01-05",
          "2010-01-06",
          "2010-01-07",
          "2010-01-08",
          "2010-01-11",
          "2010-01-12",
          "2010-01-13",
          "2010-01-14",
          "2010-01-15"
         ],
         "y": [
          -0.10992519999999999,
          -0.0986796,
          -0.0614218,
          -0.02543355,
          -0.049298049999999996,
          -0.038790000000000005,
          -0.046453499999999995,
          -0.0459365,
          -0.0503051,
          -0.05161945
         ]
        },
        {
         "name": "0.1 quantile",
         "type": "scatter",
         "uid": "33af9aa2-5950-4106-baa7-5042bf00abdc",
         "x": [
          "2010-01-04",
          "2010-01-05",
          "2010-01-06",
          "2010-01-07",
          "2010-01-08",
          "2010-01-11",
          "2010-01-12",
          "2010-01-13",
          "2010-01-14",
          "2010-01-15"
         ],
         "y": [
          -0.08532340000000001,
          -0.077088,
          -0.0416496,
          -0.015995,
          -0.0359322,
          -0.029232800000000003,
          -0.0346,
          -0.034999,
          -0.0361554,
          -0.039512900000000004
         ]
        },
        {
         "name": "0.25 quantile",
         "type": "scatter",
         "uid": "5e9bd93f-c45c-42ee-8a9a-920eb7acb28a",
         "x": [
          "2010-01-04",
          "2010-01-05",
          "2010-01-06",
          "2010-01-07",
          "2010-01-08",
          "2010-01-11",
          "2010-01-12",
          "2010-01-13",
          "2010-01-14",
          "2010-01-15"
         ],
         "y": [
          -0.041016000000000004,
          -0.038733000000000004,
          -0.020052,
          -0.0017699999999999999,
          -0.019096000000000002,
          -0.01205,
          -0.0168,
          -0.016299,
          -0.0174315,
          -0.019487749999999998
         ]
        },
        {
         "name": "0.5 quantile",
         "type": "scatter",
         "uid": "100ed0b5-3781-44b5-81cc-0c0fc4d30910",
         "x": [
          "2010-01-04",
          "2010-01-05",
          "2010-01-06",
          "2010-01-07",
          "2010-01-08",
          "2010-01-11",
          "2010-01-12",
          "2010-01-13",
          "2010-01-14",
          "2010-01-15"
         ],
         "y": [
          -0.001024,
          0.0005200000000000001,
          0.0037524999999999998,
          0.014711499999999999,
          -0.0010574999999999998,
          0.0059299999999999995,
          0.0038910000000000004,
          0.0058775,
          0.005808,
          0.00309
         ]
        },
        {
         "name": "0.75 quantile",
         "type": "scatter",
         "uid": "db7d8a54-cc7c-4818-be11-cba8d2192da6",
         "x": [
          "2010-01-04",
          "2010-01-05",
          "2010-01-06",
          "2010-01-07",
          "2010-01-08",
          "2010-01-11",
          "2010-01-12",
          "2010-01-13",
          "2010-01-14",
          "2010-01-15"
         ],
         "y": [
          0.03385,
          0.036064,
          0.027466499999999998,
          0.037482,
          0.01799525,
          0.03025,
          0.028783499999999997,
          0.03091725,
          0.033072,
          0.02866775
         ]
        },
        {
         "name": "0.9 quantile",
         "type": "scatter",
         "uid": "0995c460-5c71-4648-8637-40765e3cb8be",
         "x": [
          "2010-01-04",
          "2010-01-05",
          "2010-01-06",
          "2010-01-07",
          "2010-01-08",
          "2010-01-11",
          "2010-01-12",
          "2010-01-13",
          "2010-01-14",
          "2010-01-15"
         ],
         "y": [
          0.07932340000000006,
          0.07757620000000001,
          0.059731000000000006,
          0.06557680000000007,
          0.04455790000000003,
          0.0602384,
          0.060306599999999995,
          0.0610085,
          0.06758379999999999,
          0.060525700000000016
         ]
        },
        {
         "name": "0.95 quantile",
         "type": "scatter",
         "uid": "5facc7fe-474f-440e-bf2a-f2b2a7f17a4f",
         "x": [
          "2010-01-04",
          "2010-01-05",
          "2010-01-06",
          "2010-01-07",
          "2010-01-08",
          "2010-01-11",
          "2010-01-12",
          "2010-01-13",
          "2010-01-14",
          "2010-01-15"
         ],
         "y": [
          0.11217119999999997,
          0.12163210000000005,
          0.08611010000000002,
          0.08676979999999998,
          0.06334784999999998,
          0.08004999999999994,
          0.08593724999999995,
          0.0886585,
          0.09012229999999996,
          0.09047435000000005
         ]
        }
       ],
       "layout": {
        "legend": {
         "orientation": "h"
        },
        "title": {
         "text": "Trends of returnsOpenNextMktres10 by quantiles"
        },
        "xaxis": {
         "title": {
          "text": "Month"
         }
        },
        "yaxis": {
         "title": {
          "text": "Price (USD)"
         }
        }
       }
      },
      "text/html": [
       "<div id=\"ba1f9496-0196-43c4-8aa9-d222787572e6\" style=\"height: 525px; width: 100%;\" class=\"plotly-graph-div\"></div><script type=\"text/javascript\">require([\"plotly\"], function(Plotly) { window.PLOTLYENV=window.PLOTLYENV || {};window.PLOTLYENV.BASE_URL=\"https://plot.ly\";\n",
       "if (document.getElementById(\"ba1f9496-0196-43c4-8aa9-d222787572e6\")) {\n",
       "    Plotly.newPlot(\"ba1f9496-0196-43c4-8aa9-d222787572e6\", [{\"name\": \"0.05 quantile\", \"x\": [\"2010-01-04\", \"2010-01-05\", \"2010-01-06\", \"2010-01-07\", \"2010-01-08\", \"2010-01-11\", \"2010-01-12\", \"2010-01-13\", \"2010-01-14\", \"2010-01-15\"], \"y\": [-0.10992519999999999, -0.0986796, -0.0614218, -0.02543355, -0.049298049999999996, -0.038790000000000005, -0.046453499999999995, -0.0459365, -0.0503051, -0.05161945], \"type\": \"scatter\", \"uid\": \"eeab4d49-a35c-4ea1-9dc1-9795587e01b5\"}, {\"name\": \"0.1 quantile\", \"x\": [\"2010-01-04\", \"2010-01-05\", \"2010-01-06\", \"2010-01-07\", \"2010-01-08\", \"2010-01-11\", \"2010-01-12\", \"2010-01-13\", \"2010-01-14\", \"2010-01-15\"], \"y\": [-0.08532340000000001, -0.077088, -0.0416496, -0.015995, -0.0359322, -0.029232800000000003, -0.0346, -0.034999, -0.0361554, -0.039512900000000004], \"type\": \"scatter\", \"uid\": \"089b68da-f8dc-44fe-8ade-a039fc846625\"}, {\"name\": \"0.25 quantile\", \"x\": [\"2010-01-04\", \"2010-01-05\", \"2010-01-06\", \"2010-01-07\", \"2010-01-08\", \"2010-01-11\", \"2010-01-12\", \"2010-01-13\", \"2010-01-14\", \"2010-01-15\"], \"y\": [-0.041016000000000004, -0.038733000000000004, -0.020052, -0.0017699999999999999, -0.019096000000000002, -0.01205, -0.0168, -0.016299, -0.0174315, -0.019487749999999998], \"type\": \"scatter\", \"uid\": \"cf0d04c1-07f0-4654-b111-61737f273267\"}, {\"name\": \"0.5 quantile\", \"x\": [\"2010-01-04\", \"2010-01-05\", \"2010-01-06\", \"2010-01-07\", \"2010-01-08\", \"2010-01-11\", \"2010-01-12\", \"2010-01-13\", \"2010-01-14\", \"2010-01-15\"], \"y\": [-0.001024, 0.0005200000000000001, 0.0037524999999999998, 0.014711499999999999, -0.0010574999999999998, 0.0059299999999999995, 0.0038910000000000004, 0.0058775, 0.005808, 0.00309], \"type\": \"scatter\", \"uid\": \"1824f1ae-c59a-474f-a6f3-b7124897dd8e\"}, {\"name\": \"0.75 quantile\", \"x\": [\"2010-01-04\", \"2010-01-05\", \"2010-01-06\", \"2010-01-07\", \"2010-01-08\", \"2010-01-11\", \"2010-01-12\", \"2010-01-13\", \"2010-01-14\", \"2010-01-15\"], \"y\": [0.03385, 0.036064, 0.027466499999999998, 0.037482, 0.01799525, 0.03025, 0.028783499999999997, 0.03091725, 0.033072, 0.02866775], \"type\": \"scatter\", \"uid\": \"e82b49eb-3de0-406c-b3c8-07f78c8d65ec\"}, {\"name\": \"0.9 quantile\", \"x\": [\"2010-01-04\", \"2010-01-05\", \"2010-01-06\", \"2010-01-07\", \"2010-01-08\", \"2010-01-11\", \"2010-01-12\", \"2010-01-13\", \"2010-01-14\", \"2010-01-15\"], \"y\": [0.07932340000000006, 0.07757620000000001, 0.059731000000000006, 0.06557680000000007, 0.04455790000000003, 0.0602384, 0.060306599999999995, 0.0610085, 0.06758379999999999, 0.060525700000000016], \"type\": \"scatter\", \"uid\": \"56f7109f-4e40-4d3a-a6be-d2fc53699857\"}, {\"name\": \"0.95 quantile\", \"x\": [\"2010-01-04\", \"2010-01-05\", \"2010-01-06\", \"2010-01-07\", \"2010-01-08\", \"2010-01-11\", \"2010-01-12\", \"2010-01-13\", \"2010-01-14\", \"2010-01-15\"], \"y\": [0.11217119999999997, 0.12163210000000005, 0.08611010000000002, 0.08676979999999998, 0.06334784999999998, 0.08004999999999994, 0.08593724999999995, 0.0886585, 0.09012229999999996, 0.09047435000000005], \"type\": \"scatter\", \"uid\": \"7bffe9f2-22ce-4545-b719-745ca8e040c6\"}], {\"legend\": {\"orientation\": \"h\"}, \"title\": {\"text\": \"Trends of returnsOpenNextMktres10 by quantiles\"}, \"xaxis\": {\"title\": {\"text\": \"Month\"}}, \"yaxis\": {\"title\": {\"text\": \"Price (USD)\"}}}, {\"showLink\": false, \"linkText\": \"Export to plot.ly\", \"plotlyServerURL\": \"https://plot.ly\"}); \n",
       "}\n",
       "});</script><script type=\"text/javascript\">window.addEventListener(\"resize\", function(){if (document.getElementById(\"ba1f9496-0196-43c4-8aa9-d222787572e6\")) {window._Plotly.Plots.resize(document.getElementById(\"ba1f9496-0196-43c4-8aa9-d222787572e6\"));};})</script>"
      ],
      "text/vnd.plotly.v1+html": [
       "<div id=\"ba1f9496-0196-43c4-8aa9-d222787572e6\" style=\"height: 525px; width: 100%;\" class=\"plotly-graph-div\"></div><script type=\"text/javascript\">require([\"plotly\"], function(Plotly) { window.PLOTLYENV=window.PLOTLYENV || {};window.PLOTLYENV.BASE_URL=\"https://plot.ly\";\n",
       "if (document.getElementById(\"ba1f9496-0196-43c4-8aa9-d222787572e6\")) {\n",
       "    Plotly.newPlot(\"ba1f9496-0196-43c4-8aa9-d222787572e6\", [{\"name\": \"0.05 quantile\", \"x\": [\"2010-01-04\", \"2010-01-05\", \"2010-01-06\", \"2010-01-07\", \"2010-01-08\", \"2010-01-11\", \"2010-01-12\", \"2010-01-13\", \"2010-01-14\", \"2010-01-15\"], \"y\": [-0.10992519999999999, -0.0986796, -0.0614218, -0.02543355, -0.049298049999999996, -0.038790000000000005, -0.046453499999999995, -0.0459365, -0.0503051, -0.05161945], \"type\": \"scatter\", \"uid\": \"eeab4d49-a35c-4ea1-9dc1-9795587e01b5\"}, {\"name\": \"0.1 quantile\", \"x\": [\"2010-01-04\", \"2010-01-05\", \"2010-01-06\", \"2010-01-07\", \"2010-01-08\", \"2010-01-11\", \"2010-01-12\", \"2010-01-13\", \"2010-01-14\", \"2010-01-15\"], \"y\": [-0.08532340000000001, -0.077088, -0.0416496, -0.015995, -0.0359322, -0.029232800000000003, -0.0346, -0.034999, -0.0361554, -0.039512900000000004], \"type\": \"scatter\", \"uid\": \"089b68da-f8dc-44fe-8ade-a039fc846625\"}, {\"name\": \"0.25 quantile\", \"x\": [\"2010-01-04\", \"2010-01-05\", \"2010-01-06\", \"2010-01-07\", \"2010-01-08\", \"2010-01-11\", \"2010-01-12\", \"2010-01-13\", \"2010-01-14\", \"2010-01-15\"], \"y\": [-0.041016000000000004, -0.038733000000000004, -0.020052, -0.0017699999999999999, -0.019096000000000002, -0.01205, -0.0168, -0.016299, -0.0174315, -0.019487749999999998], \"type\": \"scatter\", \"uid\": \"cf0d04c1-07f0-4654-b111-61737f273267\"}, {\"name\": \"0.5 quantile\", \"x\": [\"2010-01-04\", \"2010-01-05\", \"2010-01-06\", \"2010-01-07\", \"2010-01-08\", \"2010-01-11\", \"2010-01-12\", \"2010-01-13\", \"2010-01-14\", \"2010-01-15\"], \"y\": [-0.001024, 0.0005200000000000001, 0.0037524999999999998, 0.014711499999999999, -0.0010574999999999998, 0.0059299999999999995, 0.0038910000000000004, 0.0058775, 0.005808, 0.00309], \"type\": \"scatter\", \"uid\": \"1824f1ae-c59a-474f-a6f3-b7124897dd8e\"}, {\"name\": \"0.75 quantile\", \"x\": [\"2010-01-04\", \"2010-01-05\", \"2010-01-06\", \"2010-01-07\", \"2010-01-08\", \"2010-01-11\", \"2010-01-12\", \"2010-01-13\", \"2010-01-14\", \"2010-01-15\"], \"y\": [0.03385, 0.036064, 0.027466499999999998, 0.037482, 0.01799525, 0.03025, 0.028783499999999997, 0.03091725, 0.033072, 0.02866775], \"type\": \"scatter\", \"uid\": \"e82b49eb-3de0-406c-b3c8-07f78c8d65ec\"}, {\"name\": \"0.9 quantile\", \"x\": [\"2010-01-04\", \"2010-01-05\", \"2010-01-06\", \"2010-01-07\", \"2010-01-08\", \"2010-01-11\", \"2010-01-12\", \"2010-01-13\", \"2010-01-14\", \"2010-01-15\"], \"y\": [0.07932340000000006, 0.07757620000000001, 0.059731000000000006, 0.06557680000000007, 0.04455790000000003, 0.0602384, 0.060306599999999995, 0.0610085, 0.06758379999999999, 0.060525700000000016], \"type\": \"scatter\", \"uid\": \"56f7109f-4e40-4d3a-a6be-d2fc53699857\"}, {\"name\": \"0.95 quantile\", \"x\": [\"2010-01-04\", \"2010-01-05\", \"2010-01-06\", \"2010-01-07\", \"2010-01-08\", \"2010-01-11\", \"2010-01-12\", \"2010-01-13\", \"2010-01-14\", \"2010-01-15\"], \"y\": [0.11217119999999997, 0.12163210000000005, 0.08611010000000002, 0.08676979999999998, 0.06334784999999998, 0.08004999999999994, 0.08593724999999995, 0.0886585, 0.09012229999999996, 0.09047435000000005], \"type\": \"scatter\", \"uid\": \"7bffe9f2-22ce-4545-b719-745ca8e040c6\"}], {\"legend\": {\"orientation\": \"h\"}, \"title\": {\"text\": \"Trends of returnsOpenNextMktres10 by quantiles\"}, \"xaxis\": {\"title\": {\"text\": \"Month\"}}, \"yaxis\": {\"title\": {\"text\": \"Price (USD)\"}}}, {\"showLink\": false, \"linkText\": \"Export to plot.ly\", \"plotlyServerURL\": \"https://plot.ly\"}); \n",
       "}\n",
       "});</script><script type=\"text/javascript\">window.addEventListener(\"resize\", function(){if (document.getElementById(\"ba1f9496-0196-43c4-8aa9-d222787572e6\")) {window._Plotly.Plots.resize(document.getElementById(\"ba1f9496-0196-43c4-8aa9-d222787572e6\"));};})</script>"
      ]
     },
     "metadata": {},
     "output_type": "display_data"
    }
   ],
   "source": [
    "data = []\n",
    "for i in [0.05, 0.1, 0.25, 0.5, 0.75, 0.9, 0.95]:\n",
    "    price_df = market_train_df.groupby('time')['returnsOpenNextMktres10'].quantile(i).reset_index()\n",
    "\n",
    "    data.append(go.Scatter(\n",
    "        x = price_df['time'].dt.strftime(date_format='%Y-%m-%d').values,\n",
    "        y = price_df['returnsOpenNextMktres10'].values,\n",
    "        name = f'{i} quantile'\n",
    "    ))\n",
    "layout = go.Layout(dict(title = \"Trends of returnsOpenNextMktres10 by quantiles\",\n",
    "                  xaxis = dict(title = 'Month'),\n",
    "                  yaxis = dict(title = 'Price (USD)'),\n",
    "                  ),legend=dict(\n",
    "                orientation=\"h\"),)\n",
    "py.iplot(dict(data=data, layout=layout), filename='basic-line')"
   ]
  },
  {
   "cell_type": "markdown",
   "metadata": {
    "_uuid": "414894c26558ba77cb7e0963fba2a31c5f0d5d87"
   },
   "source": [
    "We can see that quantiles have a high deviation, but mean value doesn't change much.\n",
    "\n",
    "Now I think it is time to throw an old part of dataset. Let's leave only data since 2010 year, this way we will get rid of the data of the biggest crisis."
   ]
  },
  {
   "cell_type": "markdown",
   "metadata": {
    "_uuid": "29454b6967e6d8fe0c5441435a41d31d70048a1a"
   },
   "source": [
    "Let's look at the target variable now."
   ]
  },
  {
   "cell_type": "code",
   "execution_count": 23,
   "metadata": {
    "_kg_hide-input": true,
    "_uuid": "3d45a734741f7bdea69432e09a3f63c9e14132a6"
   },
   "outputs": [
    {
     "data": {
      "application/vnd.plotly.v1+json": {
       "config": {
        "linkText": "Export to plot.ly",
        "plotlyServerURL": "https://plot.ly",
        "showLink": false
       },
       "data": [
        {
         "name": "0.95 quantile",
         "type": "scatter",
         "uid": "ce6c02f4-8618-4e03-947d-8945163793b1",
         "x": [
          "2010-01-04",
          "2010-01-05",
          "2010-01-06",
          "2010-01-07",
          "2010-01-08",
          "2010-01-11",
          "2010-01-12",
          "2010-01-13",
          "2010-01-14",
          "2010-01-15"
         ],
         "y": [
          0.0076661829025844895,
          0.004402374917053747,
          6.828495339547947e-05,
          0.016832373333333338,
          0.0020225100000000004,
          0.011974199031936129,
          0.009438526525198925,
          0.01091019189907038,
          0.011209281437125735,
          0.00807392681258549
         ]
        }
       ],
       "layout": {
        "legend": {
         "orientation": "h"
        },
        "title": {
         "text": "Treand of returnsOpenNextMktres10 mean"
        },
        "xaxis": {
         "title": {
          "text": "Month"
         }
        },
        "yaxis": {
         "title": {
          "text": "Price (USD)"
         }
        }
       }
      },
      "text/html": [
       "<div id=\"9ed31cf7-c1a0-492d-8150-5016e1899c1f\" style=\"height: 525px; width: 100%;\" class=\"plotly-graph-div\"></div><script type=\"text/javascript\">require([\"plotly\"], function(Plotly) { window.PLOTLYENV=window.PLOTLYENV || {};window.PLOTLYENV.BASE_URL=\"https://plot.ly\";\n",
       "if (document.getElementById(\"9ed31cf7-c1a0-492d-8150-5016e1899c1f\")) {\n",
       "    Plotly.newPlot(\"9ed31cf7-c1a0-492d-8150-5016e1899c1f\", [{\"name\": \"0.95 quantile\", \"x\": [\"2010-01-04\", \"2010-01-05\", \"2010-01-06\", \"2010-01-07\", \"2010-01-08\", \"2010-01-11\", \"2010-01-12\", \"2010-01-13\", \"2010-01-14\", \"2010-01-15\"], \"y\": [0.0076661829025844895, 0.004402374917053747, 6.828495339547947e-05, 0.016832373333333338, 0.0020225100000000004, 0.011974199031936129, 0.009438526525198925, 0.01091019189907038, 0.011209281437125735, 0.00807392681258549], \"type\": \"scatter\", \"uid\": \"afb0f35e-24cb-4846-8670-26c6d7823519\"}], {\"legend\": {\"orientation\": \"h\"}, \"title\": {\"text\": \"Treand of returnsOpenNextMktres10 mean\"}, \"xaxis\": {\"title\": {\"text\": \"Month\"}}, \"yaxis\": {\"title\": {\"text\": \"Price (USD)\"}}}, {\"showLink\": false, \"linkText\": \"Export to plot.ly\", \"plotlyServerURL\": \"https://plot.ly\"}); \n",
       "}\n",
       "});</script><script type=\"text/javascript\">window.addEventListener(\"resize\", function(){if (document.getElementById(\"9ed31cf7-c1a0-492d-8150-5016e1899c1f\")) {window._Plotly.Plots.resize(document.getElementById(\"9ed31cf7-c1a0-492d-8150-5016e1899c1f\"));};})</script>"
      ],
      "text/vnd.plotly.v1+html": [
       "<div id=\"9ed31cf7-c1a0-492d-8150-5016e1899c1f\" style=\"height: 525px; width: 100%;\" class=\"plotly-graph-div\"></div><script type=\"text/javascript\">require([\"plotly\"], function(Plotly) { window.PLOTLYENV=window.PLOTLYENV || {};window.PLOTLYENV.BASE_URL=\"https://plot.ly\";\n",
       "if (document.getElementById(\"9ed31cf7-c1a0-492d-8150-5016e1899c1f\")) {\n",
       "    Plotly.newPlot(\"9ed31cf7-c1a0-492d-8150-5016e1899c1f\", [{\"name\": \"0.95 quantile\", \"x\": [\"2010-01-04\", \"2010-01-05\", \"2010-01-06\", \"2010-01-07\", \"2010-01-08\", \"2010-01-11\", \"2010-01-12\", \"2010-01-13\", \"2010-01-14\", \"2010-01-15\"], \"y\": [0.0076661829025844895, 0.004402374917053747, 6.828495339547947e-05, 0.016832373333333338, 0.0020225100000000004, 0.011974199031936129, 0.009438526525198925, 0.01091019189907038, 0.011209281437125735, 0.00807392681258549], \"type\": \"scatter\", \"uid\": \"afb0f35e-24cb-4846-8670-26c6d7823519\"}], {\"legend\": {\"orientation\": \"h\"}, \"title\": {\"text\": \"Treand of returnsOpenNextMktres10 mean\"}, \"xaxis\": {\"title\": {\"text\": \"Month\"}}, \"yaxis\": {\"title\": {\"text\": \"Price (USD)\"}}}, {\"showLink\": false, \"linkText\": \"Export to plot.ly\", \"plotlyServerURL\": \"https://plot.ly\"}); \n",
       "}\n",
       "});</script><script type=\"text/javascript\">window.addEventListener(\"resize\", function(){if (document.getElementById(\"9ed31cf7-c1a0-492d-8150-5016e1899c1f\")) {window._Plotly.Plots.resize(document.getElementById(\"9ed31cf7-c1a0-492d-8150-5016e1899c1f\"));};})</script>"
      ]
     },
     "metadata": {},
     "output_type": "display_data"
    }
   ],
   "source": [
    "data = []\n",
    "market_train_df = market_train_df.loc[market_train_df['time'] >= '2010-01-01 22:00:00+0000']\n",
    "\n",
    "price_df = market_train_df.groupby('time')['returnsOpenNextMktres10'].mean().reset_index()\n",
    "\n",
    "data.append(go.Scatter(\n",
    "    x = price_df['time'].dt.strftime(date_format='%Y-%m-%d').values,\n",
    "    y = price_df['returnsOpenNextMktres10'].values,\n",
    "    name = f'{i} quantile'\n",
    "))\n",
    "layout = go.Layout(dict(title = \"Treand of returnsOpenNextMktres10 mean\",\n",
    "                  xaxis = dict(title = 'Month'),\n",
    "                  yaxis = dict(title = 'Price (USD)'),\n",
    "                  ),legend=dict(\n",
    "                orientation=\"h\"),)\n",
    "py.iplot(dict(data=data, layout=layout), filename='basic-line')"
   ]
  },
  {
   "cell_type": "markdown",
   "metadata": {
    "_uuid": "ed1d2c559c69fb4f628e29423134f7e610cf3df9"
   },
   "source": [
    "Fluctuations seem to be high, but in fact they are lower that 8 percent. In fact it looks like a random noise..."
   ]
  },
  {
   "cell_type": "markdown",
   "metadata": {
    "_uuid": "7a3bc153d0005c67122c7835f30bbaff9002ca9f"
   },
   "source": [
    "Now let's remember the description:\n",
    "```\n",
    "The marketdata contains a variety of returns calculated over different timespans. All of the returns in this set of marketdata have these properties:\n",
    "\n",
    "    Returns are always calculated either open-to-open (from the opening time of one trading day to the open of another) or close-to-close (from the closing time of one trading day to the open of another).\n",
    "    Returns are either raw, meaning that the data is not adjusted against any benchmark, or market-residualized (Mktres), meaning that the movement of the market as a whole has been accounted for, leaving only movements inherent to the instrument.\n",
    "    Returns can be calculated over any arbitrary interval. Provided here are 1 day and 10 day horizons.\n",
    "    Returns are tagged with 'Prev' if they are backwards looking in time, or 'Next' if forwards looking.\n",
    "```\n",
    "\n",
    "Let's have a look at means of these variables."
   ]
  },
  {
   "cell_type": "code",
   "execution_count": 24,
   "metadata": {
    "_kg_hide-input": true,
    "_uuid": "71abf4301d4c4cc18a5e300e7d20319560d49df1"
   },
   "outputs": [
    {
     "data": {
      "application/vnd.plotly.v1+json": {
       "config": {
        "linkText": "Export to plot.ly",
        "plotlyServerURL": "https://plot.ly",
        "showLink": false
       },
       "data": [
        {
         "name": "returnsClosePrevRaw1",
         "type": "scatter",
         "uid": "0fb9890c-1eca-4d61-ae32-8432e30a49a1",
         "x": [
          "2010-01-04",
          "2010-01-05",
          "2010-01-06",
          "2010-01-07",
          "2010-01-08",
          "2010-01-11",
          "2010-01-12",
          "2010-01-13",
          "2010-01-14",
          "2010-01-15"
         ],
         "y": [
          0.021416177601060307,
          0.00648061778367618,
          0.004764482689747007,
          0.004694751333333341,
          0.005439970000000009,
          0.0011458689288090507,
          -0.013615321618037133,
          0.010601303452855256,
          0.002815178310046572,
          -0.011946007523939798
         ]
        },
        {
         "name": "returnsOpenPrevRaw1",
         "type": "scatter",
         "uid": "08812633-8b00-4822-95f7-2fd6a3ccf388",
         "x": [
          "2010-01-04",
          "2010-01-05",
          "2010-01-06",
          "2010-01-07",
          "2010-01-08",
          "2010-01-11",
          "2010-01-12",
          "2010-01-13",
          "2010-01-14",
          "2010-01-15"
         ],
         "y": [
          0.12483700463883368,
          0.009485744525547433,
          0.006214122503328905,
          0.0036375073333333383,
          0.002657687333333336,
          0.01467791284098469,
          -0.012849328249336892,
          -0.0026937861885790236,
          0.005613248170326019,
          0.004008740766073871
         ]
        },
        {
         "name": "returnsClosePrevMktres1",
         "type": "scatter",
         "uid": "a7f9bf3a-fa3b-413f-8134-47672aecf0f0",
         "x": [
          "2010-01-04",
          "2010-01-05",
          "2010-01-06",
          "2010-01-07",
          "2010-01-08",
          "2010-01-11",
          "2010-01-12",
          "2010-01-13",
          "2010-01-14",
          "2010-01-15"
         ],
         "y": [
          0.002793206781914893,
          0.0028885847176079687,
          0.004150139813457693,
          0.0001739030020013341,
          0.002186980302403203,
          -0.0009450501672240802,
          -0.0022103709139426283,
          0.0005712840761523043,
          -0.00012087683578104172,
          0.0010520648902606307
         ]
        },
        {
         "name": "returnsOpenPrevMktres1",
         "type": "scatter",
         "uid": "c014e69e-9383-463d-9b1f-20ee9ef3ebbb",
         "x": [
          "2010-01-04",
          "2010-01-05",
          "2010-01-06",
          "2010-01-07",
          "2010-01-08",
          "2010-01-11",
          "2010-01-12",
          "2010-01-13",
          "2010-01-14",
          "2010-01-15"
         ],
         "y": [
          0.11434038630319153,
          0.02316387176079734,
          0.009398018654230516,
          0.004179553035356902,
          0.0007924098798397874,
          0.012033711705685629,
          -0.01165122615076717,
          0.001190995991983968,
          0.0009057096128170902,
          0.00280666392318244
         ]
        },
        {
         "name": "returnsClosePrevRaw10",
         "type": "scatter",
         "uid": "7ed217c9-7052-4267-8581-8f9d8ba86d72",
         "x": [
          "2010-01-04",
          "2010-01-05",
          "2010-01-06",
          "2010-01-07",
          "2010-01-08",
          "2010-01-11",
          "2010-01-12",
          "2010-01-13",
          "2010-01-14",
          "2010-01-15"
         ],
         "y": [
          0.05009792975480448,
          0.05048451094890501,
          0.04340621171770975,
          0.03958567999999994,
          0.036351400666666665,
          0.03140281902860948,
          0.018732844827586234,
          0.030754679282868545,
          0.03521012974051893,
          0.03178736935704517
         ]
        },
        {
         "name": "returnsOpenPrevRaw10",
         "type": "scatter",
         "uid": "a2760003-0fb1-49b5-a5aa-086839c87cd0",
         "x": [
          "2010-01-04",
          "2010-01-05",
          "2010-01-06",
          "2010-01-07",
          "2010-01-08",
          "2010-01-11",
          "2010-01-12",
          "2010-01-13",
          "2010-01-14",
          "2010-01-15"
         ],
         "y": [
          0.1612684618952949,
          0.04560367684140682,
          0.04536798268974704,
          0.04066191200000008,
          0.03320582800000003,
          0.040713316699933465,
          0.020513941644562345,
          0.01980193824701197,
          0.03381131936127746,
          0.03305788030095764
         ]
        },
        {
         "name": "returnsClosePrevMktres10",
         "type": "scatter",
         "uid": "b5d56982-ae7e-4c41-9808-5aab0adda075",
         "x": [
          "2010-01-04",
          "2010-01-05",
          "2010-01-06",
          "2010-01-07",
          "2010-01-08",
          "2010-01-11",
          "2010-01-12",
          "2010-01-13",
          "2010-01-14",
          "2010-01-15"
         ],
         "y": [
          0.00889336919973101,
          0.015831242098184272,
          0.020240634524612285,
          0.015965850404312677,
          0.011982564777327943,
          0.0106321472972973,
          0.009874747297297298,
          0.01136245405405406,
          0.013846878808395394,
          0.010672027835768953
         ]
        },
        {
         "name": "returnsOpenPrevMktres10",
         "type": "scatter",
         "uid": "33e80b69-a391-4753-981f-b81ad9493f57",
         "x": [
          "2010-01-04",
          "2010-01-05",
          "2010-01-06",
          "2010-01-07",
          "2010-01-08",
          "2010-01-11",
          "2010-01-12",
          "2010-01-13",
          "2010-01-14",
          "2010-01-15"
         ],
         "y": [
          0.15146607666442508,
          0.012654370544720918,
          0.019259894807821986,
          0.0225218908355795,
          0.01487386572199732,
          0.019986881081081133,
          0.007415547972972972,
          0.010936721621621614,
          0.014734380501015568,
          0.013403138482950591
         ]
        },
        {
         "name": "returnsOpenNextMktres10",
         "type": "scatter",
         "uid": "d1b0793f-1548-4843-a843-13f13bc0696f",
         "x": [
          "2010-01-04",
          "2010-01-05",
          "2010-01-06",
          "2010-01-07",
          "2010-01-08",
          "2010-01-11",
          "2010-01-12",
          "2010-01-13",
          "2010-01-14",
          "2010-01-15"
         ],
         "y": [
          0.0076661829025844895,
          0.004402374917053747,
          6.828495339547947e-05,
          0.016832373333333338,
          0.0020225100000000004,
          0.011974199031936129,
          0.009438526525198925,
          0.01091019189907038,
          0.011209281437125735,
          0.00807392681258549
         ]
        }
       ],
       "layout": {
        "legend": {
         "orientation": "h"
        },
        "title": {
         "text": "Treand of mean values"
        },
        "xaxis": {
         "title": {
          "text": "Month"
         }
        },
        "yaxis": {
         "title": {
          "text": "Price (USD)"
         }
        }
       }
      },
      "text/html": [
       "<div id=\"4fca7d09-0e94-4195-8dc0-e20336773f72\" style=\"height: 525px; width: 100%;\" class=\"plotly-graph-div\"></div><script type=\"text/javascript\">require([\"plotly\"], function(Plotly) { window.PLOTLYENV=window.PLOTLYENV || {};window.PLOTLYENV.BASE_URL=\"https://plot.ly\";\n",
       "if (document.getElementById(\"4fca7d09-0e94-4195-8dc0-e20336773f72\")) {\n",
       "    Plotly.newPlot(\"4fca7d09-0e94-4195-8dc0-e20336773f72\", [{\"name\": \"returnsClosePrevRaw1\", \"x\": [\"2010-01-04\", \"2010-01-05\", \"2010-01-06\", \"2010-01-07\", \"2010-01-08\", \"2010-01-11\", \"2010-01-12\", \"2010-01-13\", \"2010-01-14\", \"2010-01-15\"], \"y\": [0.021416177601060307, 0.00648061778367618, 0.004764482689747007, 0.004694751333333341, 0.005439970000000009, 0.0011458689288090507, -0.013615321618037133, 0.010601303452855256, 0.002815178310046572, -0.011946007523939798], \"type\": \"scatter\", \"uid\": \"c77390ee-7ccf-4383-acae-07eb87c2bd19\"}, {\"name\": \"returnsOpenPrevRaw1\", \"x\": [\"2010-01-04\", \"2010-01-05\", \"2010-01-06\", \"2010-01-07\", \"2010-01-08\", \"2010-01-11\", \"2010-01-12\", \"2010-01-13\", \"2010-01-14\", \"2010-01-15\"], \"y\": [0.12483700463883368, 0.009485744525547433, 0.006214122503328905, 0.0036375073333333383, 0.002657687333333336, 0.01467791284098469, -0.012849328249336892, -0.0026937861885790236, 0.005613248170326019, 0.004008740766073871], \"type\": \"scatter\", \"uid\": \"928ac38d-5568-444b-9d15-91ad0303c3da\"}, {\"name\": \"returnsClosePrevMktres1\", \"x\": [\"2010-01-04\", \"2010-01-05\", \"2010-01-06\", \"2010-01-07\", \"2010-01-08\", \"2010-01-11\", \"2010-01-12\", \"2010-01-13\", \"2010-01-14\", \"2010-01-15\"], \"y\": [0.002793206781914893, 0.0028885847176079687, 0.004150139813457693, 0.0001739030020013341, 0.002186980302403203, -0.0009450501672240802, -0.0022103709139426283, 0.0005712840761523043, -0.00012087683578104172, 0.0010520648902606307], \"type\": \"scatter\", \"uid\": \"52899338-43f5-4f95-90e1-a29682219fc5\"}, {\"name\": \"returnsOpenPrevMktres1\", \"x\": [\"2010-01-04\", \"2010-01-05\", \"2010-01-06\", \"2010-01-07\", \"2010-01-08\", \"2010-01-11\", \"2010-01-12\", \"2010-01-13\", \"2010-01-14\", \"2010-01-15\"], \"y\": [0.11434038630319153, 0.02316387176079734, 0.009398018654230516, 0.004179553035356902, 0.0007924098798397874, 0.012033711705685629, -0.01165122615076717, 0.001190995991983968, 0.0009057096128170902, 0.00280666392318244], \"type\": \"scatter\", \"uid\": \"f1702314-ec3b-4287-8054-eedc5646d35b\"}, {\"name\": \"returnsClosePrevRaw10\", \"x\": [\"2010-01-04\", \"2010-01-05\", \"2010-01-06\", \"2010-01-07\", \"2010-01-08\", \"2010-01-11\", \"2010-01-12\", \"2010-01-13\", \"2010-01-14\", \"2010-01-15\"], \"y\": [0.05009792975480448, 0.05048451094890501, 0.04340621171770975, 0.03958567999999994, 0.036351400666666665, 0.03140281902860948, 0.018732844827586234, 0.030754679282868545, 0.03521012974051893, 0.03178736935704517], \"type\": \"scatter\", \"uid\": \"3d8b8808-ea00-4a27-b337-4bb9eadbf54b\"}, {\"name\": \"returnsOpenPrevRaw10\", \"x\": [\"2010-01-04\", \"2010-01-05\", \"2010-01-06\", \"2010-01-07\", \"2010-01-08\", \"2010-01-11\", \"2010-01-12\", \"2010-01-13\", \"2010-01-14\", \"2010-01-15\"], \"y\": [0.1612684618952949, 0.04560367684140682, 0.04536798268974704, 0.04066191200000008, 0.03320582800000003, 0.040713316699933465, 0.020513941644562345, 0.01980193824701197, 0.03381131936127746, 0.03305788030095764], \"type\": \"scatter\", \"uid\": \"1587177b-c6fe-40b6-80d2-b8fe10e257ff\"}, {\"name\": \"returnsClosePrevMktres10\", \"x\": [\"2010-01-04\", \"2010-01-05\", \"2010-01-06\", \"2010-01-07\", \"2010-01-08\", \"2010-01-11\", \"2010-01-12\", \"2010-01-13\", \"2010-01-14\", \"2010-01-15\"], \"y\": [0.00889336919973101, 0.015831242098184272, 0.020240634524612285, 0.015965850404312677, 0.011982564777327943, 0.0106321472972973, 0.009874747297297298, 0.01136245405405406, 0.013846878808395394, 0.010672027835768953], \"type\": \"scatter\", \"uid\": \"65122830-7d19-4bf0-a4b4-d271a879ba37\"}, {\"name\": \"returnsOpenPrevMktres10\", \"x\": [\"2010-01-04\", \"2010-01-05\", \"2010-01-06\", \"2010-01-07\", \"2010-01-08\", \"2010-01-11\", \"2010-01-12\", \"2010-01-13\", \"2010-01-14\", \"2010-01-15\"], \"y\": [0.15146607666442508, 0.012654370544720918, 0.019259894807821986, 0.0225218908355795, 0.01487386572199732, 0.019986881081081133, 0.007415547972972972, 0.010936721621621614, 0.014734380501015568, 0.013403138482950591], \"type\": \"scatter\", \"uid\": \"9fca19e4-62f4-400b-b37a-fcf744b96126\"}, {\"name\": \"returnsOpenNextMktres10\", \"x\": [\"2010-01-04\", \"2010-01-05\", \"2010-01-06\", \"2010-01-07\", \"2010-01-08\", \"2010-01-11\", \"2010-01-12\", \"2010-01-13\", \"2010-01-14\", \"2010-01-15\"], \"y\": [0.0076661829025844895, 0.004402374917053747, 6.828495339547947e-05, 0.016832373333333338, 0.0020225100000000004, 0.011974199031936129, 0.009438526525198925, 0.01091019189907038, 0.011209281437125735, 0.00807392681258549], \"type\": \"scatter\", \"uid\": \"2b998122-4b64-4b3e-8198-d3a53152b8d0\"}], {\"legend\": {\"orientation\": \"h\"}, \"title\": {\"text\": \"Treand of mean values\"}, \"xaxis\": {\"title\": {\"text\": \"Month\"}}, \"yaxis\": {\"title\": {\"text\": \"Price (USD)\"}}}, {\"showLink\": false, \"linkText\": \"Export to plot.ly\", \"plotlyServerURL\": \"https://plot.ly\"}); \n",
       "}\n",
       "});</script><script type=\"text/javascript\">window.addEventListener(\"resize\", function(){if (document.getElementById(\"4fca7d09-0e94-4195-8dc0-e20336773f72\")) {window._Plotly.Plots.resize(document.getElementById(\"4fca7d09-0e94-4195-8dc0-e20336773f72\"));};})</script>"
      ],
      "text/vnd.plotly.v1+html": [
       "<div id=\"4fca7d09-0e94-4195-8dc0-e20336773f72\" style=\"height: 525px; width: 100%;\" class=\"plotly-graph-div\"></div><script type=\"text/javascript\">require([\"plotly\"], function(Plotly) { window.PLOTLYENV=window.PLOTLYENV || {};window.PLOTLYENV.BASE_URL=\"https://plot.ly\";\n",
       "if (document.getElementById(\"4fca7d09-0e94-4195-8dc0-e20336773f72\")) {\n",
       "    Plotly.newPlot(\"4fca7d09-0e94-4195-8dc0-e20336773f72\", [{\"name\": \"returnsClosePrevRaw1\", \"x\": [\"2010-01-04\", \"2010-01-05\", \"2010-01-06\", \"2010-01-07\", \"2010-01-08\", \"2010-01-11\", \"2010-01-12\", \"2010-01-13\", \"2010-01-14\", \"2010-01-15\"], \"y\": [0.021416177601060307, 0.00648061778367618, 0.004764482689747007, 0.004694751333333341, 0.005439970000000009, 0.0011458689288090507, -0.013615321618037133, 0.010601303452855256, 0.002815178310046572, -0.011946007523939798], \"type\": \"scatter\", \"uid\": \"c77390ee-7ccf-4383-acae-07eb87c2bd19\"}, {\"name\": \"returnsOpenPrevRaw1\", \"x\": [\"2010-01-04\", \"2010-01-05\", \"2010-01-06\", \"2010-01-07\", \"2010-01-08\", \"2010-01-11\", \"2010-01-12\", \"2010-01-13\", \"2010-01-14\", \"2010-01-15\"], \"y\": [0.12483700463883368, 0.009485744525547433, 0.006214122503328905, 0.0036375073333333383, 0.002657687333333336, 0.01467791284098469, -0.012849328249336892, -0.0026937861885790236, 0.005613248170326019, 0.004008740766073871], \"type\": \"scatter\", \"uid\": \"928ac38d-5568-444b-9d15-91ad0303c3da\"}, {\"name\": \"returnsClosePrevMktres1\", \"x\": [\"2010-01-04\", \"2010-01-05\", \"2010-01-06\", \"2010-01-07\", \"2010-01-08\", \"2010-01-11\", \"2010-01-12\", \"2010-01-13\", \"2010-01-14\", \"2010-01-15\"], \"y\": [0.002793206781914893, 0.0028885847176079687, 0.004150139813457693, 0.0001739030020013341, 0.002186980302403203, -0.0009450501672240802, -0.0022103709139426283, 0.0005712840761523043, -0.00012087683578104172, 0.0010520648902606307], \"type\": \"scatter\", \"uid\": \"52899338-43f5-4f95-90e1-a29682219fc5\"}, {\"name\": \"returnsOpenPrevMktres1\", \"x\": [\"2010-01-04\", \"2010-01-05\", \"2010-01-06\", \"2010-01-07\", \"2010-01-08\", \"2010-01-11\", \"2010-01-12\", \"2010-01-13\", \"2010-01-14\", \"2010-01-15\"], \"y\": [0.11434038630319153, 0.02316387176079734, 0.009398018654230516, 0.004179553035356902, 0.0007924098798397874, 0.012033711705685629, -0.01165122615076717, 0.001190995991983968, 0.0009057096128170902, 0.00280666392318244], \"type\": \"scatter\", \"uid\": \"f1702314-ec3b-4287-8054-eedc5646d35b\"}, {\"name\": \"returnsClosePrevRaw10\", \"x\": [\"2010-01-04\", \"2010-01-05\", \"2010-01-06\", \"2010-01-07\", \"2010-01-08\", \"2010-01-11\", \"2010-01-12\", \"2010-01-13\", \"2010-01-14\", \"2010-01-15\"], \"y\": [0.05009792975480448, 0.05048451094890501, 0.04340621171770975, 0.03958567999999994, 0.036351400666666665, 0.03140281902860948, 0.018732844827586234, 0.030754679282868545, 0.03521012974051893, 0.03178736935704517], \"type\": \"scatter\", \"uid\": \"3d8b8808-ea00-4a27-b337-4bb9eadbf54b\"}, {\"name\": \"returnsOpenPrevRaw10\", \"x\": [\"2010-01-04\", \"2010-01-05\", \"2010-01-06\", \"2010-01-07\", \"2010-01-08\", \"2010-01-11\", \"2010-01-12\", \"2010-01-13\", \"2010-01-14\", \"2010-01-15\"], \"y\": [0.1612684618952949, 0.04560367684140682, 0.04536798268974704, 0.04066191200000008, 0.03320582800000003, 0.040713316699933465, 0.020513941644562345, 0.01980193824701197, 0.03381131936127746, 0.03305788030095764], \"type\": \"scatter\", \"uid\": \"1587177b-c6fe-40b6-80d2-b8fe10e257ff\"}, {\"name\": \"returnsClosePrevMktres10\", \"x\": [\"2010-01-04\", \"2010-01-05\", \"2010-01-06\", \"2010-01-07\", \"2010-01-08\", \"2010-01-11\", \"2010-01-12\", \"2010-01-13\", \"2010-01-14\", \"2010-01-15\"], \"y\": [0.00889336919973101, 0.015831242098184272, 0.020240634524612285, 0.015965850404312677, 0.011982564777327943, 0.0106321472972973, 0.009874747297297298, 0.01136245405405406, 0.013846878808395394, 0.010672027835768953], \"type\": \"scatter\", \"uid\": \"65122830-7d19-4bf0-a4b4-d271a879ba37\"}, {\"name\": \"returnsOpenPrevMktres10\", \"x\": [\"2010-01-04\", \"2010-01-05\", \"2010-01-06\", \"2010-01-07\", \"2010-01-08\", \"2010-01-11\", \"2010-01-12\", \"2010-01-13\", \"2010-01-14\", \"2010-01-15\"], \"y\": [0.15146607666442508, 0.012654370544720918, 0.019259894807821986, 0.0225218908355795, 0.01487386572199732, 0.019986881081081133, 0.007415547972972972, 0.010936721621621614, 0.014734380501015568, 0.013403138482950591], \"type\": \"scatter\", \"uid\": \"9fca19e4-62f4-400b-b37a-fcf744b96126\"}, {\"name\": \"returnsOpenNextMktres10\", \"x\": [\"2010-01-04\", \"2010-01-05\", \"2010-01-06\", \"2010-01-07\", \"2010-01-08\", \"2010-01-11\", \"2010-01-12\", \"2010-01-13\", \"2010-01-14\", \"2010-01-15\"], \"y\": [0.0076661829025844895, 0.004402374917053747, 6.828495339547947e-05, 0.016832373333333338, 0.0020225100000000004, 0.011974199031936129, 0.009438526525198925, 0.01091019189907038, 0.011209281437125735, 0.00807392681258549], \"type\": \"scatter\", \"uid\": \"2b998122-4b64-4b3e-8198-d3a53152b8d0\"}], {\"legend\": {\"orientation\": \"h\"}, \"title\": {\"text\": \"Treand of mean values\"}, \"xaxis\": {\"title\": {\"text\": \"Month\"}}, \"yaxis\": {\"title\": {\"text\": \"Price (USD)\"}}}, {\"showLink\": false, \"linkText\": \"Export to plot.ly\", \"plotlyServerURL\": \"https://plot.ly\"}); \n",
       "}\n",
       "});</script><script type=\"text/javascript\">window.addEventListener(\"resize\", function(){if (document.getElementById(\"4fca7d09-0e94-4195-8dc0-e20336773f72\")) {window._Plotly.Plots.resize(document.getElementById(\"4fca7d09-0e94-4195-8dc0-e20336773f72\"));};})</script>"
      ]
     },
     "metadata": {},
     "output_type": "display_data"
    }
   ],
   "source": [
    "data = []\n",
    "for col in ['returnsClosePrevRaw1', 'returnsOpenPrevRaw1',\n",
    "       'returnsClosePrevMktres1', 'returnsOpenPrevMktres1',\n",
    "       'returnsClosePrevRaw10', 'returnsOpenPrevRaw10',\n",
    "       'returnsClosePrevMktres10', 'returnsOpenPrevMktres10',\n",
    "       'returnsOpenNextMktres10']:\n",
    "    df = market_train_df.groupby('time')[col].mean().reset_index()\n",
    "    data.append(go.Scatter(\n",
    "        x = df['time'].dt.strftime(date_format='%Y-%m-%d').values,\n",
    "        y = df[col].values,\n",
    "        name = col\n",
    "    ))\n",
    "    \n",
    "layout = go.Layout(dict(title = \"Treand of mean values\",\n",
    "                  xaxis = dict(title = 'Month'),\n",
    "                  yaxis = dict(title = 'Price (USD)'),\n",
    "                  ),legend=dict(\n",
    "                orientation=\"h\"),)\n",
    "py.iplot(dict(data=data, layout=layout), filename='basic-line')"
   ]
  },
  {
   "cell_type": "markdown",
   "metadata": {
    "_uuid": "d0e73c3ca9cae28623fb77eeb1ef4e0c5c22303d"
   },
   "source": [
    "Well, for me it is difficult to interpret this, but it seems that returns for previous 10 days fluctuate the most."
   ]
  },
  {
   "cell_type": "markdown",
   "metadata": {
    "_uuid": "7ce3cdada9c4560b8777dbbf3db5c67d1032caf0"
   },
   "source": [
    "### News data"
   ]
  },
  {
   "cell_type": "code",
   "execution_count": 25,
   "metadata": {
    "_uuid": "ba97b5f5630b0cf80e47b7bdf05fb8dd5ebee870"
   },
   "outputs": [
    {
     "data": {
      "text/html": [
       "<div>\n",
       "<style scoped>\n",
       "    .dataframe tbody tr th:only-of-type {\n",
       "        vertical-align: middle;\n",
       "    }\n",
       "\n",
       "    .dataframe tbody tr th {\n",
       "        vertical-align: top;\n",
       "    }\n",
       "\n",
       "    .dataframe thead th {\n",
       "        text-align: right;\n",
       "    }\n",
       "</style>\n",
       "<table border=\"1\" class=\"dataframe\">\n",
       "  <thead>\n",
       "    <tr style=\"text-align: right;\">\n",
       "      <th></th>\n",
       "      <th>time</th>\n",
       "      <th>sourceTimestamp</th>\n",
       "      <th>firstCreated</th>\n",
       "      <th>sourceId</th>\n",
       "      <th>headline</th>\n",
       "      <th>urgency</th>\n",
       "      <th>takeSequence</th>\n",
       "      <th>provider</th>\n",
       "      <th>subjects</th>\n",
       "      <th>audiences</th>\n",
       "      <th>...</th>\n",
       "      <th>noveltyCount12H</th>\n",
       "      <th>noveltyCount24H</th>\n",
       "      <th>noveltyCount3D</th>\n",
       "      <th>noveltyCount5D</th>\n",
       "      <th>noveltyCount7D</th>\n",
       "      <th>volumeCounts12H</th>\n",
       "      <th>volumeCounts24H</th>\n",
       "      <th>volumeCounts3D</th>\n",
       "      <th>volumeCounts5D</th>\n",
       "      <th>volumeCounts7D</th>\n",
       "    </tr>\n",
       "  </thead>\n",
       "  <tbody>\n",
       "    <tr>\n",
       "      <th>0</th>\n",
       "      <td>2010-01-02 00:19:58+00:00</td>\n",
       "      <td>2010-01-02 00:19:58+00:00</td>\n",
       "      <td>2010-01-02 00:19:58+00:00</td>\n",
       "      <td>8d593bb6bb7a431f</td>\n",
       "      <td>China's Daqing pumps 43.41 mln tonnes of oil i...</td>\n",
       "      <td>1</td>\n",
       "      <td>1</td>\n",
       "      <td>RTRS</td>\n",
       "      <td>{'ENT', 'ADVT', 'GEN', 'CYCS', 'US', 'MDIA', '...</td>\n",
       "      <td>{'O', 'Z', 'OIL'}</td>\n",
       "      <td>...</td>\n",
       "      <td>0</td>\n",
       "      <td>7</td>\n",
       "      <td>15</td>\n",
       "      <td>15</td>\n",
       "      <td>15</td>\n",
       "      <td>0</td>\n",
       "      <td>10</td>\n",
       "      <td>32</td>\n",
       "      <td>35</td>\n",
       "      <td>35</td>\n",
       "    </tr>\n",
       "    <tr>\n",
       "      <th>1</th>\n",
       "      <td>2010-01-02 00:19:58+00:00</td>\n",
       "      <td>2010-01-02 00:19:58+00:00</td>\n",
       "      <td>2010-01-02 00:19:58+00:00</td>\n",
       "      <td>8d593bb6bb7a431f</td>\n",
       "      <td>FEATURE-In kidnapping, finesse works best</td>\n",
       "      <td>1</td>\n",
       "      <td>1</td>\n",
       "      <td>RTRS</td>\n",
       "      <td>{'ENT', 'ADVT', 'GEN', 'CYCS', 'US', 'MDIA', '...</td>\n",
       "      <td>{'PGE', 'PCU', 'PCO', 'DNP', 'MD', 'E', 'G', '...</td>\n",
       "      <td>...</td>\n",
       "      <td>0</td>\n",
       "      <td>5</td>\n",
       "      <td>12</td>\n",
       "      <td>12</td>\n",
       "      <td>12</td>\n",
       "      <td>0</td>\n",
       "      <td>7</td>\n",
       "      <td>27</td>\n",
       "      <td>36</td>\n",
       "      <td>43</td>\n",
       "    </tr>\n",
       "    <tr>\n",
       "      <th>2</th>\n",
       "      <td>2010-01-02 00:23:09+00:00</td>\n",
       "      <td>2010-01-02 00:23:09+00:00</td>\n",
       "      <td>2010-01-02 00:19:58+00:00</td>\n",
       "      <td>43a6014fa9f5f5d0</td>\n",
       "      <td>PRESS DIGEST - Wall Street Journal - Jan 1</td>\n",
       "      <td>1</td>\n",
       "      <td>2</td>\n",
       "      <td>RTRS</td>\n",
       "      <td>{'ENT', 'ADVT', 'GEN', 'CYCS', 'US', 'MDIA', '...</td>\n",
       "      <td>{'M', 'PMF', 'DNP', 'PTD', 'T', 'E', 'D', 'PSC...</td>\n",
       "      <td>...</td>\n",
       "      <td>1</td>\n",
       "      <td>7</td>\n",
       "      <td>16</td>\n",
       "      <td>16</td>\n",
       "      <td>16</td>\n",
       "      <td>1</td>\n",
       "      <td>11</td>\n",
       "      <td>33</td>\n",
       "      <td>36</td>\n",
       "      <td>36</td>\n",
       "    </tr>\n",
       "    <tr>\n",
       "      <th>3</th>\n",
       "      <td>2010-01-02 00:23:09+00:00</td>\n",
       "      <td>2010-01-02 00:23:09+00:00</td>\n",
       "      <td>2010-01-02 00:19:58+00:00</td>\n",
       "      <td>43a6014fa9f5f5d0</td>\n",
       "      <td>PRESS DIGEST - New York Times - Jan 1</td>\n",
       "      <td>1</td>\n",
       "      <td>2</td>\n",
       "      <td>RTRS</td>\n",
       "      <td>{'ENT', 'ADVT', 'GEN', 'CYCS', 'US', 'MDIA', '...</td>\n",
       "      <td>{'M', 'PMF', 'DNP', 'PTD', 'T', 'E', 'D', 'PSC...</td>\n",
       "      <td>...</td>\n",
       "      <td>0</td>\n",
       "      <td>0</td>\n",
       "      <td>0</td>\n",
       "      <td>0</td>\n",
       "      <td>0</td>\n",
       "      <td>1</td>\n",
       "      <td>8</td>\n",
       "      <td>28</td>\n",
       "      <td>37</td>\n",
       "      <td>44</td>\n",
       "    </tr>\n",
       "    <tr>\n",
       "      <th>4</th>\n",
       "      <td>2010-01-02 00:25:02+00:00</td>\n",
       "      <td>2010-01-02 00:25:02+00:00</td>\n",
       "      <td>2010-01-02 00:25:02+00:00</td>\n",
       "      <td>16cdf56895c82a1d</td>\n",
       "      <td>PRESS DIGEST - New York Times - Jan 1</td>\n",
       "      <td>3</td>\n",
       "      <td>1</td>\n",
       "      <td>BSW</td>\n",
       "      <td>{'ENT', 'NEWR', 'GEN', 'CYCS', 'US', 'MDIA', '...</td>\n",
       "      <td>{'M', 'PMF', 'DNP', 'PTD', 'T', 'E', 'D', 'PSC...</td>\n",
       "      <td>...</td>\n",
       "      <td>0</td>\n",
       "      <td>0</td>\n",
       "      <td>0</td>\n",
       "      <td>0</td>\n",
       "      <td>0</td>\n",
       "      <td>3</td>\n",
       "      <td>10</td>\n",
       "      <td>30</td>\n",
       "      <td>39</td>\n",
       "      <td>46</td>\n",
       "    </tr>\n",
       "  </tbody>\n",
       "</table>\n",
       "<p>5 rows × 35 columns</p>\n",
       "</div>"
      ],
      "text/plain": [
       "                       time            sourceTimestamp  \\\n",
       "0 2010-01-02 00:19:58+00:00  2010-01-02 00:19:58+00:00   \n",
       "1 2010-01-02 00:19:58+00:00  2010-01-02 00:19:58+00:00   \n",
       "2 2010-01-02 00:23:09+00:00  2010-01-02 00:23:09+00:00   \n",
       "3 2010-01-02 00:23:09+00:00  2010-01-02 00:23:09+00:00   \n",
       "4 2010-01-02 00:25:02+00:00  2010-01-02 00:25:02+00:00   \n",
       "\n",
       "                firstCreated          sourceId  \\\n",
       "0  2010-01-02 00:19:58+00:00  8d593bb6bb7a431f   \n",
       "1  2010-01-02 00:19:58+00:00  8d593bb6bb7a431f   \n",
       "2  2010-01-02 00:19:58+00:00  43a6014fa9f5f5d0   \n",
       "3  2010-01-02 00:19:58+00:00  43a6014fa9f5f5d0   \n",
       "4  2010-01-02 00:25:02+00:00  16cdf56895c82a1d   \n",
       "\n",
       "                                            headline  urgency  takeSequence  \\\n",
       "0  China's Daqing pumps 43.41 mln tonnes of oil i...        1             1   \n",
       "1          FEATURE-In kidnapping, finesse works best        1             1   \n",
       "2         PRESS DIGEST - Wall Street Journal - Jan 1        1             2   \n",
       "3              PRESS DIGEST - New York Times - Jan 1        1             2   \n",
       "4              PRESS DIGEST - New York Times - Jan 1        3             1   \n",
       "\n",
       "  provider                                           subjects  \\\n",
       "0     RTRS  {'ENT', 'ADVT', 'GEN', 'CYCS', 'US', 'MDIA', '...   \n",
       "1     RTRS  {'ENT', 'ADVT', 'GEN', 'CYCS', 'US', 'MDIA', '...   \n",
       "2     RTRS  {'ENT', 'ADVT', 'GEN', 'CYCS', 'US', 'MDIA', '...   \n",
       "3     RTRS  {'ENT', 'ADVT', 'GEN', 'CYCS', 'US', 'MDIA', '...   \n",
       "4      BSW  {'ENT', 'NEWR', 'GEN', 'CYCS', 'US', 'MDIA', '...   \n",
       "\n",
       "                                           audiences  ...  noveltyCount12H  \\\n",
       "0                                  {'O', 'Z', 'OIL'}  ...                0   \n",
       "1  {'PGE', 'PCU', 'PCO', 'DNP', 'MD', 'E', 'G', '...  ...                0   \n",
       "2  {'M', 'PMF', 'DNP', 'PTD', 'T', 'E', 'D', 'PSC...  ...                1   \n",
       "3  {'M', 'PMF', 'DNP', 'PTD', 'T', 'E', 'D', 'PSC...  ...                0   \n",
       "4  {'M', 'PMF', 'DNP', 'PTD', 'T', 'E', 'D', 'PSC...  ...                0   \n",
       "\n",
       "   noveltyCount24H noveltyCount3D  noveltyCount5D  noveltyCount7D  \\\n",
       "0                7             15              15              15   \n",
       "1                5             12              12              12   \n",
       "2                7             16              16              16   \n",
       "3                0              0               0               0   \n",
       "4                0              0               0               0   \n",
       "\n",
       "   volumeCounts12H volumeCounts24H volumeCounts3D  volumeCounts5D  \\\n",
       "0                0              10             32              35   \n",
       "1                0               7             27              36   \n",
       "2                1              11             33              36   \n",
       "3                1               8             28              37   \n",
       "4                3              10             30              39   \n",
       "\n",
       "   volumeCounts7D  \n",
       "0              35  \n",
       "1              43  \n",
       "2              36  \n",
       "3              44  \n",
       "4              46  \n",
       "\n",
       "[5 rows x 35 columns]"
      ]
     },
     "execution_count": 25,
     "metadata": {},
     "output_type": "execute_result"
    }
   ],
   "source": [
    "news_train_df.head()"
   ]
  },
  {
   "cell_type": "code",
   "execution_count": 26,
   "metadata": {
    "_uuid": "746a676f5c99038eaa2675f1c829056f8a7eba71"
   },
   "outputs": [
    {
     "name": "stdout",
     "output_type": "stream",
     "text": [
      "30000 samples and 35 features in the training news dataset.\n"
     ]
    }
   ],
   "source": [
    "print(f'{news_train_df.shape[0]} samples and {news_train_df.shape[1]} features in the training news dataset.')"
   ]
  },
  {
   "cell_type": "markdown",
   "metadata": {
    "_uuid": "d999bbf073b48992439ad1ed45e4f22c6c676ef9"
   },
   "source": [
    "The file is too huge to work with text directly, so let's see a wordcloud of the last 100000 headlines."
   ]
  },
  {
   "cell_type": "code",
   "execution_count": 27,
   "metadata": {
    "_uuid": "abe755aae9cf82fd8eb687d3df7b0db1bcec622b"
   },
   "outputs": [
    {
     "data": {
      "image/png": "[encoded data removed]",
      "text/plain": [
       "<Figure size 864x576 with 1 Axes>"
      ]
     },
     "metadata": {
      "needs_background": "light"
     },
     "output_type": "display_data"
    }
   ],
   "source": [
    "text = ' '.join(news_train_df['headline'].str.lower().values[-1000000:])\n",
    "wordcloud = WordCloud(max_font_size=None, stopwords=stop, background_color='white',\n",
    "                      width=1200, height=1000).generate(text)\n",
    "plt.figure(figsize=(12, 8))\n",
    "plt.imshow(wordcloud)\n",
    "plt.title('Top words in headline')\n",
    "plt.axis(\"off\")\n",
    "plt.show()"
   ]
  },
  {
   "cell_type": "code",
   "execution_count": 28,
   "metadata": {
    "_uuid": "141ccfc6aa372c86c901e517f5fe26f2199c037d"
   },
   "outputs": [],
   "source": [
    "# Let's also limit the time period\n",
    "news_train_df = news_train_df.loc[news_train_df['time'] >= '2010-01-01 22:00:00+0000']"
   ]
  },
  {
   "cell_type": "code",
   "execution_count": 29,
   "metadata": {
    "_uuid": "4fd2fa4fddc287426bad197666b5788006bab8b4"
   },
   "outputs": [
    {
     "data": {
      "image/png": "[encoded data removed]",
      "text/plain": [
       "<Figure size 432x288 with 1 Axes>"
      ]
     },
     "metadata": {
      "needs_background": "light"
     },
     "output_type": "display_data"
    }
   ],
   "source": [
    "(news_train_df['urgency'].value_counts() / 1000000).plot('bar');\n",
    "plt.xticks(rotation=30);\n",
    "plt.title('Urgency counts (mln)');"
   ]
  },
  {
   "cell_type": "markdown",
   "metadata": {
    "_uuid": "676e3a99d8decf96d38a3a0807e10cd5b647be2d"
   },
   "source": [
    "Well, it seems that in fact urgency \"2\" is almost never used."
   ]
  },
  {
   "cell_type": "code",
   "execution_count": 30,
   "metadata": {
    "_uuid": "103ca16b4a4431358d6b49f9013d11ddb7f9452a"
   },
   "outputs": [
    {
     "data": {
      "image/png": "[encoded data removed]",
      "text/plain": [
       "<Figure size 432x288 with 1 Axes>"
      ]
     },
     "metadata": {
      "needs_background": "light"
     },
     "output_type": "display_data"
    }
   ],
   "source": [
    "news_train_df['sentence_word_count'] =  news_train_df['wordCount'] / news_train_df['sentenceCount']\n",
    "plt.boxplot(news_train_df['sentence_word_count'][news_train_df['sentence_word_count'] < 40]);"
   ]
  },
  {
   "cell_type": "markdown",
   "metadata": {
    "_uuid": "ada478042b03c13217820e4f1bfa7343affd241c"
   },
   "source": [
    "There are some big outliers, but sentences mostly have 15-25 words in them."
   ]
  },
  {
   "cell_type": "code",
   "execution_count": 31,
   "metadata": {
    "_uuid": "a06cf9147c8093acbac7d123432587e5d32410b2",
    "scrolled": true
   },
   "outputs": [
    {
     "data": {
      "text/plain": [
       "RTRS    23702\n",
       "BSW      2487\n",
       "PRN      2018\n",
       "MKW       560\n",
       "RNS       489\n",
       "GNW       349\n",
       "CNW       102\n",
       "ROM        91\n",
       "HIIS       88\n",
       "BSE        41\n",
       "Name: provider, dtype: int64"
      ]
     },
     "execution_count": 31,
     "metadata": {},
     "output_type": "execute_result"
    }
   ],
   "source": [
    "news_train_df['provider'].value_counts().head(10)"
   ]
  },
  {
   "cell_type": "markdown",
   "metadata": {
    "_uuid": "19b0aeeb5a37e7de6d75d456aecb98514da77d29"
   },
   "source": [
    "It isn't surprising that Reuters is the most common provider :)"
   ]
  },
  {
   "cell_type": "code",
   "execution_count": 32,
   "metadata": {
    "_uuid": "d700f29e213413d5fe3acecd9bfc9605895bca60"
   },
   "outputs": [
    {
     "data": {
      "image/png": "[encoded data removed]",
      "text/plain": [
       "<Figure size 432x288 with 1 Axes>"
      ]
     },
     "metadata": {
      "needs_background": "light"
     },
     "output_type": "display_data"
    }
   ],
   "source": [
    "(news_train_df['headlineTag'].value_counts() / 1000)[:10].plot('barh');\n",
    "plt.title('headlineTag counts (thousands)');"
   ]
  },
  {
   "cell_type": "markdown",
   "metadata": {
    "_uuid": "dc2cad235a461e096f0076b58b913fb5abd0d31c"
   },
   "source": [
    "Well, most news are tagless."
   ]
  },
  {
   "cell_type": "code",
   "execution_count": 33,
   "metadata": {
    "_kg_hide-input": true,
    "_uuid": "81c132598b64437c94bbf86a41a49e1527c25848",
    "scrolled": false
   },
   "outputs": [
    {
     "name": "stdout",
     "output_type": "stream",
     "text": [
      "Top mentioned companies for negative sentiment are:\n",
      "Google Inc                 225\n",
      "Bank of America Corp       212\n",
      "JPMorgan Chase & Co        189\n",
      "Goldman Sachs Group Inc    164\n",
      "Morgan Stanley             119\n",
      "Name: assetName, dtype: int64\n",
      "\n",
      "Top mentioned companies for neutral sentiment are:\n",
      "Cadbury Ltd             271\n",
      "Google Inc              119\n",
      "Barclays PLC            103\n",
      "Citigroup Inc            76\n",
      "Bank of America Corp     72\n",
      "Name: assetName, dtype: int64\n",
      "\n",
      "Top mentioned companies for positive sentiment are:\n",
      "Cadbury Ltd                   290\n",
      "Mondelez International Inc    240\n",
      "Ford Motor Co                 132\n",
      "Intel Corp                    104\n",
      "Hershey Co                     99\n",
      "Name: assetName, dtype: int64\n",
      "\n"
     ]
    }
   ],
   "source": [
    "for i, j in zip([-1, 0, 1], ['negative', 'neutral', 'positive']):\n",
    "    df_sentiment = news_train_df.loc[news_train_df['sentimentClass'] == i, 'assetName']\n",
    "    print(f'Top mentioned companies for {j} sentiment are:')\n",
    "    print(df_sentiment.value_counts().head(5))\n",
    "    print('')"
   ]
  }
 ],
 "metadata": {
  "kernelspec": {
   "display_name": "Python 3",
   "language": "python",
   "name": "python3"
  },
  "language_info": {
   "codemirror_mode": {
    "name": "ipython",
    "version": 3
   },
   "file_extension": ".py",
   "mimetype": "text/x-python",
   "name": "python",
   "nbconvert_exporter": "python",
   "pygments_lexer": "ipython3",
   "version": "3.6.4"
  }
 },
 "nbformat": 4,
 "nbformat_minor": 1
}
